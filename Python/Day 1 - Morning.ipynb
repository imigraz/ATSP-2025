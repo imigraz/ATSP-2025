{
 "cells": [
  {
   "cell_type": "markdown",
   "id": "9b99e6c1-ef8b-410c-80a7-7265b959456d",
   "metadata": {},
   "source": [
    "# Day 1: Morning Session\n",
    "\n",
    "# Introduction\n",
    "\n",
    "Welcome to Python section of the Advanced Topics in Scientific Programming (ATSP) 2025 course! \n",
    "\n",
    "We start his course with Python, and we will have two and a half days of Python in Machine Learning material, where we will discuss the following:\n",
    "\n",
    "- Day 1 will focus on basics of **Python**, **Numpy**, **Jupyter**, and then machine learning methods using **Sci-Kit Learn**\n",
    "    - As I understand it, you you have already done Pandas in the introduction course?\n",
    "    - If we need a refresher on Pandas, we can do so quickly in this morning session now. \n",
    "- Day 2 will focus on **Deep Learning** \n",
    "- Day 3 will focus on **model deployment** and your assignment **assignment** for the course\n",
    " \n",
    "Your assignment will be to complete an end-to-end machine learning project - you will have the choice of several assignments. We will go in to more details regarding the assignment on Wednesday. One of the assignments will be an image classification assignment using deep neural networks, a second option for your assignment focusses developing a web application, and another option for your assignment relates to a text or tabular dataset.\n",
    "\n",
    "## Admin and Materials\n",
    "Let's first discuss some administrative matters and the material for the course.\n",
    "\n",
    "We provide the materials as follows: \n",
    "\n",
    "- All course materials are provided and presented as Jupyter notebooks\n",
    "- Jupyter is a web-based development enviroment for Python, R, etc.\n",
    "- During the seminars, we will use this server to run and execute the code live\n",
    "- Each of you has an account so you can log in to the server and access the materials and follow along while we code, you can also experiment with the code, etc.\n",
    "- The server will only run during the seminar times. Outside of the seminars, you will be able to access the notebooks via our GitHub repository\n",
    "\n",
    "This means that to run the notebooks outside of the seminar times, you will need to install and run Jupyter locally, or use something like Google Colab, which we discuss in detail tomorrow. Tomorrow afternoon, we will discuss your assignment, and in this session we can set up Jupyter on your local machines, etc.\n",
    "\n",
    "### Day 1\n",
    "\n",
    "Today we will discuss the following topics:\n",
    "\n",
    "- What is Jupyter and how to use it\n",
    "- Basics of Python\n",
    "- Basics of NumPy\n",
    "- Basics of Pandas (if required)\n",
    "- Machine Learning basics\n",
    "    - Classification, regression / Supervised vs. Unsupervised\n",
    "    - Overfitting and underfitting\n",
    "    - Model evaluation\n",
    "- SciKit Learn\n",
    "    - How to get data\n",
    "    - How to generate data\n",
    "    - Training, testing\n",
    "    - Cross validation\n",
    "    - Model persistence\n",
    "    - Scaling and normalisation\n",
    "    - Data preprocessing\n",
    "\n",
    "We will split this content into the morning and afternoon sessions. \n",
    "\n",
    "So, in a bit more detail, first we discuss Jupyter, and how to use it. We will use Jupyter almost entirely for this course, to cover the material, and to run code examples and so on. You can follow along and try code examples. Jupyter is a good skill to have if you work in data science, machine learning, or academic research in general. For example, it is very useful for reproducibility and for organising code, presenting work, and for development work when you are working on a project. You can use it as an IDE, and completely replace the use of a text editor. It is web-based, meaning all you need is a browser to use it. And it can be used remotely, for example you can code at home while accessing a server at work or anywhere else in the world. It is worth noting that Jupyter is not only for Python development, there are so-called kernels for dozens of languages, including R, Julia, MATLAB, Mathematica, SPSS, you name it! \n",
    "\n",
    "GitHub (which we will cover) also renders Jupyter notebooks natively, so it can be quite useful as a way to present your work for a paper, for example. We will look in to this in detail later. For example, these course materials are hosted on GitHub, and you can view these notebooks (statically) on GitHub without needing to install anything. More on this later.\n",
    "\n",
    "After covering Jupyter and how to use it, we cover the basics of Python. Python is a general purpose language, which makes it a very useful language to know - and of course it often used in the context of general Machine Learning tasks, but it completely dominates as the language of choice for Deep Learning. If you are doing any kind of Deep Neural Network training, you will most likely be using Python and frameworks such as Torch and TensorFlow. So in this section we will cover the basics of Python, such as functions, lists, classes, etc. \n",
    "\n",
    "Once we have covered the basics of Python, then we will cover some tips and tricks for using Python in the context of Machine Learning, and cover some aspects of the language that make it useful for Data Science work in general.\n",
    "\n",
    "Next, we cover Numpy, which is a framework for handling data in Python. It provides essential functionality for manipulating array and matrix data and is used in practically any machine learing project. If required, we can cover Pandas as well, although I understand that this has already been covered in the introductory course.\n",
    "\n",
    "After we have covered the basics of Python programming, Jupyter, and Numpy, we will move on to Machine Learning methods using Python. The focus of this course is practical Machine Learning. We will not discuss in detail how the algorithms we cover work, it is focussed on how to train algorithms, what are best practices, where to get data, etc. and we will be mostly using SciKit-Learn for this.\n",
    "\n",
    "**Please note**: these notebooks are rather text-heavy: this is by design. The reason being, is that it should be possible for you to download and read and go through all these noteooks completely independently after the course has finished. Hence they should be self explanatory and be useful as a reference later, if you wish to go back to a topic (for your assignment, for example).\n",
    "\n",
    "### Day 2\n",
    "\n",
    "Day 2 will focus on Neural Networks and Deep Learning, as well as model deployment.\n",
    "\n",
    "Topics include:\n",
    "\n",
    "- Simple neural networks: we will use PyTorch to define a simple neural network and train it\n",
    "- PyTorch: we will discuss the framework we will use to create neural networks\n",
    "- Deep learning: we move to deep networks, the basis for all of the recent advancements, such as generative models and GPT models\n",
    "- Image classification: we will train an image classifier on a number of small tasks\n",
    "- Image segmentation: we discuss image segmentation in the context of medicine\n",
    "- Pre-trained models: use networks that have already been trained\n",
    "- Fine-tuning models: adapt a pre-trained network to your specific task \n",
    "- Model deployment and web application development / developing interfaces to your models\n",
    "\n",
    "### Day 3\n",
    "\n",
    "Day 3 is the morning session only, and we will mostly focus on your assignment. We will have time for you to start your assignments, and answer any questions you might have about the assignment. \n",
    "\n",
    "### Exercises\n",
    "\n",
    "Throughout the course, we will complete some exercises. This will give you a chance to try what you have learned. So, periodically you will work on some programming exercises, which should typically take 20 minutes or so, and afterwards we will go over the exercises. They will **not** be used for your grading! The grading for the course will be based on your assignment only! \n",
    "\n",
    "## Get Started\n",
    "\n",
    "So, as mentioned, this course we are going to be using Jupyter almost exclusively. We have set up a server so that you can follow along with the examples that we cover here.\n",
    "\n",
    "The server can be accessed from:\n",
    "\n",
    "- <http://learnlab.medunigraz.at>\n",
    "\n",
    "**Note**: Do not worry if there is some warning about insecure HTTP: access to this server is limited to the MUG network and KAGes. No one else can access this server from outside of the MUG or the KAGes network.\n",
    "\n",
    "To log in, use atsp + matriculation number, e.g. `at07316801` and the password that will be shown on the whiteboard. \n",
    "\n",
    "When you log in, you will see the notebooks for the course. If you do not see any notebooks, then something went wrong! Most likely you have entered an incorrect matriculation number. Let's make sure everyone is logged in before we continue.\n",
    "\n",
    "The server is only accessible from within the MUG network and KAGes network. If you are working from home, it should be possible to log in via the MUG VPN, but I have not tested this.\n",
    "\n",
    "The material (for example these notebooks, plus other material from the R part of the course, and datasets and so on) are all available under the following link on GitHub:\n",
    "\n",
    "- <https://github.com/imigraz/ATSP-2025>\n",
    "\n",
    "Let's have a look at the repository now. You can download the contents of the repository as a zip file, or you can clone the repository using Git."
   ]
  },
  {
   "cell_type": "markdown",
   "id": "457d9deb-704d-4eb2-9797-8e5849020d02",
   "metadata": {},
   "source": [
    "---"
   ]
  },
  {
   "cell_type": "markdown",
   "id": "54f4b9eb-296d-4737-86a4-e037f1e56ab4",
   "metadata": {},
   "source": [
    "# Jupyter\n",
    "\n",
    "This environment that we are using now is called Jupyter. It provides an interactive web-based environment called notebooks. \n",
    "\n",
    "It is worth noting that Jupyter is not just for Python development. There are so-called kernels from dozens of languags, see <https://github.com/jupyter/jupyter/wiki/Jupyter-kernels>, including R. Also, Jupyter is used widely in acaedmia to disseminate results and experiments. It is therefore a very useful tool to aid reproducibility. A particularly good example of this can be found here: <https://www.nature.com/articles/ng.3051> - you will find that there are a number of Jupyter notebooks associated with the paper, and they can be used to reproduce the exact same plots found with in the paper itself: <https://github.com/theandygross/TCGA/>. If you supply your experiments as a Jupyter notebook, anyone can download the notebooks, and run them on their local machine, confirming your results. This can greatly enhance your chances of getting a paper published! \n",
    "\n",
    "GitHub natively supports Jupyter, so you can host notebooks for free there. Example: <https://github.com/mdbloice/Augmentor/blob/master/notebooks/Augmentor_Keras.ipynb>. GitHub is often used to host Jupyter notebooks for a publication, as we saw above. Note that GitHub hosts notebooks **statically**, meaning they cannot be executed. You can view them, and download them, but not run them. \n",
    "\n",
    "Back to the structure of a notebook. Notebooks can contain text, images, and also code. When you execute Python code, the code is sent to a server (which can running on your local machine or elsewhere), and the results or output of the code appear in the notebook.\n",
    "\n",
    "Therefore, there are different types of cells. Text cells and code cells. \n",
    "\n",
    "This is a text cell. Below we have a code cell:"
   ]
  },
  {
   "cell_type": "code",
   "execution_count": null,
   "id": "982dca69-4398-4283-a309-35553e3f218b",
   "metadata": {},
   "outputs": [],
   "source": [
    "print(\"A code cell is executed and the results are printed to the notebook!\")"
   ]
  },
  {
   "cell_type": "markdown",
   "id": "429cb72f-c671-4f92-a762-0e3f6ad3cb36",
   "metadata": {},
   "source": [
    "The return result does not neccessarily only contain textual or numerical data, they can also be images or plots, of course.\n",
    "\n",
    "## Jupyter Basic Usage\n",
    "\n",
    "I will demonstrate the following now:\n",
    "\n",
    "- Create new cells\n",
    "- Making a cell active \n",
    "- Executing a cell\n",
    "- Changing the cell type\n",
    "- Placing a cell above and below the current position\n",
    "- Hiding the output of a cell\n",
    "- Moving a cell up or down\n",
    "\n",
    "Also, the IDE itself allows you to use tabs, open terminals, view data, and so on. It is a proper IDE, where you can do most of work from! \n",
    "\n",
    "- Create a new notebook\n",
    "- Browse notebooks\n",
    "- Open a terminal\n",
    "- Open a dataset\n",
    "\n",
    "In the menu there are a few options to look at:\n",
    "\n",
    "- **Run** menu\n",
    "    - Run a cell\n",
    "    - Run all cells\n",
    "- **File** menu\n",
    "    - Download\n",
    "    - Convert\n",
    "- **Kernel** menu\n",
    "    - What is a kernel?\n",
    "    - Interrupt kernel\n",
    "    - Restart kernel"
   ]
  },
  {
   "cell_type": "markdown",
   "id": "875c9835-b7ce-48cf-addf-b82ff5cb0650",
   "metadata": {},
   "source": [
    "## Jupyter Tips and Tricks\n",
    "\n",
    "Ok, so we have seen the basic usage, now let's discuss some mor advanced features you may not know about, even if you use Jupyter a lot.\n",
    "\n",
    "### Magics \n",
    "\n",
    "You can execute magics using `%` and `%%`. \n",
    "\n",
    "Line magics begin with a single `%` and they apply only to **that same line**.\n",
    "\n",
    "Cell magics begin with double `%%` and apply to the **entire cell**.\n",
    "\n",
    "#### Line Magics\n",
    "\n",
    "For example, to see a history of your previous commands, use `%history`:"
   ]
  },
  {
   "cell_type": "code",
   "execution_count": null,
   "id": "1064e1c1-e060-4234-9856-d3f4f4d80e4b",
   "metadata": {},
   "outputs": [],
   "source": [
    "%history -l 10"
   ]
  },
  {
   "cell_type": "markdown",
   "id": "a96248f2-1e25-4e61-8bba-92c4b95f9cb0",
   "metadata": {},
   "source": [
    "The `-l 10` argument prints only the last 10 commands."
   ]
  },
  {
   "cell_type": "markdown",
   "id": "5c195b5c-9802-46d9-8793-872bd7f91930",
   "metadata": {},
   "source": [
    "Another useful one is the `%whos` command, which lists all currently stored variables and some information about each one.\n",
    "\n",
    "Let's create a few different data structures:"
   ]
  },
  {
   "cell_type": "code",
   "execution_count": null,
   "id": "ee412397-05b3-4f9d-84ee-ee4ee22083c0",
   "metadata": {},
   "outputs": [],
   "source": [
    "x = [1, 2, 3]\n",
    "y = \"hello\"\n",
    "z = 3.14"
   ]
  },
  {
   "cell_type": "code",
   "execution_count": null,
   "id": "eef70a7a-9741-4bd4-a8e3-1ab9adbe35f6",
   "metadata": {},
   "outputs": [],
   "source": [
    "%whos"
   ]
  },
  {
   "cell_type": "markdown",
   "id": "d6a92eaa-08ab-4770-8055-96e5bdb5ac2f",
   "metadata": {},
   "source": [
    "You can also display only certain types, for example only strings using `str` or only lists using `list`."
   ]
  },
  {
   "cell_type": "code",
   "execution_count": null,
   "id": "536d7cea-0fbc-4844-ad3b-fcf2c7fba086",
   "metadata": {},
   "outputs": [],
   "source": [
    "%whos list"
   ]
  },
  {
   "cell_type": "code",
   "execution_count": null,
   "id": "8ffa39f9-f1df-4c2a-8957-4c24a2fd1e46",
   "metadata": {},
   "outputs": [],
   "source": [
    "%whos str"
   ]
  },
  {
   "cell_type": "markdown",
   "id": "8b8022ce-5594-4036-94af-aaf5c8bcb082",
   "metadata": {},
   "source": [
    "#### Cell Magics\n",
    "\n",
    "These operate on the entire cell. \n",
    "\n",
    "A very useful one is the `%%time` cell magic:"
   ]
  },
  {
   "cell_type": "code",
   "execution_count": null,
   "id": "ce46dcef-48b8-4d15-a8f3-19444be1e64b",
   "metadata": {},
   "outputs": [],
   "source": [
    "%%time\n",
    "\n",
    "a = [1,2,4]\n",
    "b = 6\n",
    "\n",
    "c = a * b"
   ]
  },
  {
   "cell_type": "markdown",
   "id": "9bef634d-8c0f-49d4-8010-e2b078aba203",
   "metadata": {},
   "source": [
    "This tells you how long a cell takes to execute. An ever more advanced version of this is `%%timeit` which repeats the code many times and reports the average execution time. This is very useful if some background process might have made an impact on the code's execution, for example."
   ]
  },
  {
   "cell_type": "code",
   "execution_count": null,
   "id": "410209ac-4846-4a86-9be0-89087cf5258e",
   "metadata": {},
   "outputs": [],
   "source": [
    "%%timeit\n",
    "\n",
    "a = [1,2,4]\n",
    "b = 6\n",
    "\n",
    "c = a * b"
   ]
  },
  {
   "cell_type": "markdown",
   "id": "1dac0ba7-4d8b-43b9-9929-c1e31fa96b8e",
   "metadata": {},
   "source": [
    "With `%%writefile`, you can write the entire contents of the cell to a file on the disk:"
   ]
  },
  {
   "cell_type": "code",
   "execution_count": null,
   "id": "ba7b7457-89b0-4cbd-806a-680aae38d83f",
   "metadata": {},
   "outputs": [],
   "source": [
    "%%writefile atsp.txt\n",
    "\n",
    "hello, world"
   ]
  },
  {
   "cell_type": "markdown",
   "id": "79aa889f-e6df-43b2-bf70-3b49eed5d699",
   "metadata": {},
   "source": [
    "Use the `-a ` parameter to append to a file:"
   ]
  },
  {
   "cell_type": "code",
   "execution_count": null,
   "id": "1442bcd9-f5eb-43e6-b00e-fe198f558118",
   "metadata": {},
   "outputs": [],
   "source": [
    "%%writefile -a atsp.txt\n",
    "\n",
    "welcome to the course"
   ]
  },
  {
   "cell_type": "markdown",
   "id": "63c8bb28-a769-4d44-8e13-f742952667dd",
   "metadata": {},
   "source": [
    "This is very useful for writing logs!"
   ]
  },
  {
   "cell_type": "markdown",
   "id": "e093b22d-fb04-47b3-8097-b20fb59818a3",
   "metadata": {},
   "source": [
    "To see a list of all magics, use `%magic`. Be warned, this produces a lot of output! However, we can use this to demonstrate how to hide the output of a cell."
   ]
  },
  {
   "cell_type": "code",
   "execution_count": null,
   "id": "0c1b7849-998a-4008-ba66-1c8a6ad17287",
   "metadata": {
    "scrolled": true
   },
   "outputs": [],
   "source": [
    "%magic"
   ]
  },
  {
   "cell_type": "markdown",
   "id": "40433151-bcd2-4a15-acb2-c77ea29d6aa4",
   "metadata": {},
   "source": [
    "#### Magic Commands Help\n",
    "\n",
    "You can use `?` for help on one particular magic command, for example for information on how to use the `%writefile` magic, you would execute the following:"
   ]
  },
  {
   "cell_type": "code",
   "execution_count": null,
   "id": "4dc8a4d2-b846-4a5c-93ff-8fcf991c6a87",
   "metadata": {},
   "outputs": [],
   "source": [
    "%%writefile?"
   ]
  },
  {
   "cell_type": "markdown",
   "id": "0bbe651f-6107-4113-bfc7-8093bc5e5047",
   "metadata": {},
   "source": [
    "### Executing Command Line Commands\n",
    "You can execute commands on the command line using the exclamation mark `!` at the beginning of a line, followed by the command:"
   ]
  },
  {
   "cell_type": "code",
   "execution_count": null,
   "id": "ca0b22ea-8d61-4578-957b-8c54625c3f78",
   "metadata": {},
   "outputs": [],
   "source": [
    "! ls"
   ]
  },
  {
   "cell_type": "code",
   "execution_count": null,
   "id": "cd4d41bc-66f4-4675-809d-4984872f22dd",
   "metadata": {},
   "outputs": [],
   "source": [
    "! df -h"
   ]
  },
  {
   "cell_type": "markdown",
   "id": "1c46dee8-b726-4080-b6b2-d90fdd5921dd",
   "metadata": {},
   "source": [
    "### Documentation\n",
    "We briefly saw how `?` can be used to get documentation for magic commands. However, it can also be used for any function or class.\n",
    "\n",
    "Use `?` to access documentation of any function or class, by appending it to the function or class name.\n",
    "\n",
    "For example, we can view the documentation of the Python function `open()`, which is used to open files on the disk, as follows:"
   ]
  },
  {
   "cell_type": "code",
   "execution_count": null,
   "id": "68e368c9-cd37-454e-87b9-1958226f4ad6",
   "metadata": {
    "scrolled": true
   },
   "outputs": [],
   "source": [
    "open?"
   ]
  },
  {
   "cell_type": "markdown",
   "id": "c97843d6-910a-4aee-8eb3-8372b1ad8610",
   "metadata": {},
   "source": [
    "**Note**: you do not write the parentheses, just the name of the function. This will fail, for example:"
   ]
  },
  {
   "cell_type": "code",
   "execution_count": null,
   "id": "073f3344-37da-4a40-bb9d-0a443eb535eb",
   "metadata": {},
   "outputs": [],
   "source": [
    "open()?"
   ]
  },
  {
   "cell_type": "markdown",
   "id": "a6345838-88d3-4ad3-a3d2-a226d4bb71de",
   "metadata": {},
   "source": [
    "### Autocompletion / Intellisense\n",
    "\n",
    "Use `Tab`  to autocomplete your code, such as showing you a list available functions: "
   ]
  },
  {
   "cell_type": "code",
   "execution_count": null,
   "id": "d065f5d5-ecf2-4b14-b9d9-4a357c07d5d0",
   "metadata": {},
   "outputs": [],
   "source": [
    "a = \"some text\""
   ]
  },
  {
   "cell_type": "code",
   "execution_count": null,
   "id": "cc37ff73-78d3-4ec7-8da8-2fbe9f2d2f34",
   "metadata": {},
   "outputs": [],
   "source": [
    "a.capitalize()"
   ]
  },
  {
   "cell_type": "markdown",
   "id": "8966d355-f4c6-48e0-8c59-f623d8dbdc2d",
   "metadata": {},
   "source": [
    "Use `Shift + Tab` to bring up the documentation and the parameters for that function:"
   ]
  },
  {
   "cell_type": "code",
   "execution_count": null,
   "id": "e6cee3b6-64b3-49ee-ae92-9edffbe9ea29",
   "metadata": {},
   "outputs": [],
   "source": [
    "a.count()"
   ]
  },
  {
   "cell_type": "markdown",
   "id": "f667f9ff-8294-4cf1-808d-2b1ac776b090",
   "metadata": {},
   "source": [
    "## Keyboard Shortcuts\n",
    "\n",
    "In the help menu, under Help -> Short Keyboard Shortcuts \n",
    "\n",
    "Some I use a lot:\n",
    "\n",
    "- `Esc`: exits edit mode.\n",
    "- `Enter`: enter edit mode\n",
    "- `Shift` + `Enter`: execute a cell\n",
    "- `A`: create a new cell **a**bove\n",
    "- `B`: create a new cell **b**elow\n",
    "- `D` + `D`: **d**elete current cell (hit `D` twice in quick succession)\n",
    "- `Y`: Change cell to **code cell**\n",
    "- `M`: Change cell to **text cell**\n",
    "- `Shift` + `L`: show **l**ine numbers. This is useful for error messages.\n",
    "\n",
    "All these options are available in the `Edit` menu above. For example, **Edit -> Delete Cell**.\n",
    "\n",
    "When you execute a text cell, it **renders the cell**. You can double click on a rendered cell to view its formatting source. \n",
    "\n",
    "When you execute a code cell, it **executes the Python code** within the cell and shows its output."
   ]
  },
  {
   "cell_type": "markdown",
   "id": "1b899c0f-17c5-4272-97bb-02bfcf22c1f4",
   "metadata": {},
   "source": [
    "### Markdown\n",
    "\n",
    "As mentioned, text cells in Jupyter can be formatted using Markdown. \n",
    "\n",
    "Here is the most important Markdown formatting syntax:\n",
    "\n",
    "Headings:\n",
    "```\n",
    "# Header 1\n",
    "## Header 2\n",
    "### Header 3\n",
    "```\n",
    "\n",
    "Text formatting:\n",
    "\n",
    "```\n",
    "Some **bold** text\n",
    "Some *italics* text \n",
    "```\n",
    "\n",
    "Lists:\n",
    "```\n",
    "- a list\n",
    "- of unordered\n",
    "- items\n",
    "\n",
    "1. a list\n",
    "2. of ordered\n",
    "3. items\n",
    "\n",
    "- [x] a list\n",
    "- [ ] of todo\n",
    "- [ ] items\n",
    "```\n",
    "\n",
    "Code:\n",
    "```\n",
    "A `code` sample\n",
    "```\n",
    "Blocks of code use 3 backticks.\n",
    "\n",
    "Horozontal Rule:\n",
    "\n",
    "```\n",
    "---\n",
    "```\n",
    "\n",
    "Links:\n",
    "```\n",
    "[title](https://www.example.com)\n",
    "```\n",
    "or \n",
    "```\n",
    "<https://example.com>\n",
    "```\n",
    "\n",
    "Images:\n",
    "```\n",
    "![Text Description](image.jpg)\n",
    "```\n",
    "\n",
    "See the following guide for a comprehensive list: <https://www.markdownguide.org/cheat-sheet/>"
   ]
  },
  {
   "cell_type": "markdown",
   "id": "2d2d6ebb-9bcd-4c54-8099-49d19fcd215b",
   "metadata": {},
   "source": [
    "### Interactive Widgets\n",
    "\n",
    "We will not cover this in much detail, however it is possible to run interactive widgets in Jupyer notebooks. \n",
    "\n",
    "To do so we use a package called `ipywidgets`: see <https://ipywidgets.readthedocs.io/en/stable/> for more details. \n",
    "\n",
    "Using interactive elements you can have sliders embedded with the Jupyter notebook for example, where variables can be adjusted visually and so on:"
   ]
  },
  {
   "cell_type": "code",
   "execution_count": null,
   "id": "5a01a6d5-f4f1-4553-a50f-1ea6df00e57b",
   "metadata": {},
   "outputs": [],
   "source": [
    "import ipywidgets as widgets\n",
    "import numpy as np\n",
    "import matplotlib.pyplot as plt\n",
    "from sklearn.linear_model import LinearRegression\n",
    "from IPython.display import display\n",
    "\n",
    "# Interactive Function with Multiple Widgets\n",
    "@widgets.interact\n",
    "def plot_function(x=widgets.IntSlider(min=-10, max=10, step=1, value=0),\n",
    "                  y=widgets.IntSlider(min=-10, max=10, step=1, value=0)):\n",
    "    print(f\"Coordinates: ({x}, {y})\")"
   ]
  },
  {
   "cell_type": "markdown",
   "id": "80249e9b-6c77-407f-872b-3ea26d5f8edc",
   "metadata": {},
   "source": [
    "These variables can be used to adjust the parameters of a model for example, where the results of the new parameter changes are updated in the plot whenever you make any adjustments:"
   ]
  },
  {
   "cell_type": "code",
   "execution_count": null,
   "id": "061bfa4c-45de-4412-962f-7eb30f8cd6d1",
   "metadata": {},
   "outputs": [],
   "source": [
    "def plot_regression(num_points, noise_level, slope):\n",
    "    plt.clf()  # Clear the plot first, done before each update.\n",
    "    \n",
    "    # Generate data\n",
    "    x = np.linspace(0, 10, num_points)\n",
    "    # Create true line with specified slope\n",
    "    y_true = slope * x + 2  # Using 2 as a fixed intercept\n",
    "    # Add random noise\n",
    "    y = y_true + np.random.normal(0, noise_level, num_points)\n",
    "    \n",
    "    # Reshape x so it is compatible with SciKit-Learn\n",
    "    X = x.reshape(-1, 1)\n",
    "    \n",
    "    # Fit linear regression\n",
    "    reg = LinearRegression()\n",
    "    reg.fit(X, y)\n",
    "    y_pred = reg.predict(X)\n",
    "    \n",
    "    # Calculate R-squared\n",
    "    r2 = reg.score(X, y)\n",
    "    \n",
    "    # Plotting\n",
    "    plt.scatter(x, y, color='blue', alpha=0.5, label='Data points')\n",
    "    plt.plot(x, y_true, 'g--', label='True line')\n",
    "    plt.plot(x, y_pred, 'r-', label='Regression line')\n",
    "    \n",
    "    plt.grid(True)\n",
    "    plt.title(f'Linear Regression (R² = {r2:.3f})')\n",
    "    plt.xlabel('X')\n",
    "    plt.ylabel('Y')\n",
    "    plt.legend()\n",
    "    \n",
    "    # Print the regression equation\n",
    "    equation = f'y = {reg.coef_[0]:.2f}x + {reg.intercept_:.2f}'\n",
    "    plt.text(0.05, 0.95, equation, transform=plt.gca().transAxes)\n",
    "\n",
    "# Create the widgets\n",
    "points_slider = widgets.IntSlider(\n",
    "    value=50,\n",
    "    min=10,\n",
    "    max=200,\n",
    "    step=10,\n",
    "    description='Points:',\n",
    "    continuous_update=False  # Important!\n",
    ")\n",
    "\n",
    "noise_slider = widgets.FloatSlider(\n",
    "    value=1.0,\n",
    "    min=0.1,\n",
    "    max=5.0,\n",
    "    step=0.1,\n",
    "    description='Noise:',\n",
    "    continuous_update=False  # Important!\n",
    ")\n",
    "\n",
    "slope_slider = widgets.FloatSlider(\n",
    "    value=2.0,\n",
    "    min=-5.0,\n",
    "    max=5.0,\n",
    "    step=0.1,\n",
    "    description='True Slope:',\n",
    "    continuous_update=False  # Important!\n",
    ")\n",
    "\n",
    "# Create and display the interactive plot\n",
    "plt.figure(figsize=(10, 6))\n",
    "\n",
    "# What we have here is an interactive widget, which is being sent the plot\n",
    "# to manipulate, the function plot_regression(), and its parameters are\n",
    "# sent by querying the 3 sliders, points_slider, noise_slider, and slope_slider.\n",
    "interactive_regression = widgets.interactive(\n",
    "    plot_regression, \n",
    "    num_points=points_slider,\n",
    "    noise_level=noise_slider,\n",
    "    slope=slope_slider\n",
    ")\n",
    "\n",
    "display(interactive_regression)"
   ]
  },
  {
   "cell_type": "markdown",
   "id": "7e26cc65-2bf0-44b5-9bd5-4d7c5ec2409d",
   "metadata": {},
   "source": [
    "**Note**: One important thing to consider when writing and running widgets, is the `continuous_update` parameter. This should normally be set to false, so that only when you stop moving the slider, does the code execute. Otherwise all intermediate steps along the transition will be executing, making it much slower!"
   ]
  },
  {
   "cell_type": "markdown",
   "id": "65868559-2c53-4731-a54c-bcbad48a3109",
   "metadata": {},
   "source": [
    "## Excercise 1: Using Jupyter\n",
    "\n",
    "In this exercise you will use some of the Jupyter specific functionality that we have covered.\n",
    "\n",
    "Note that in the code cells, comments begin with `#`, therefore you can ignore those lines and do not need to delete them, if you do not want to.\n",
    "\n",
    "### Exercise 1: Magic Commands\n",
    "\n",
    "#### Question 1.1\n",
    "\n",
    "Find out how to print the current working directory using a magic command."
   ]
  },
  {
   "cell_type": "code",
   "execution_count": null,
   "id": "7bd7eebd-1de0-467f-bb15-3edd5ac8b622",
   "metadata": {},
   "outputs": [],
   "source": [
    "# Place your answer here\n",
    "\n",
    "%pwd"
   ]
  },
  {
   "cell_type": "markdown",
   "id": "38f44f1e-04c8-4ab8-a24e-7f06b866127c",
   "metadata": {},
   "source": [
    "#### Question 1.2\n",
    "\n",
    "Show the documentation for the command that you found for the answer above:"
   ]
  },
  {
   "cell_type": "code",
   "execution_count": null,
   "id": "08abbd58-bc37-4c34-90b8-c0c2f4956ac7",
   "metadata": {},
   "outputs": [],
   "source": [
    "# Place your answer here\n",
    "\n",
    "%pwd?"
   ]
  },
  {
   "cell_type": "markdown",
   "id": "a8b89cb4-4c92-484f-ba2b-6919be5d0859",
   "metadata": {},
   "source": [
    "#### Question 1.3\n",
    "\n",
    "What's the difference between `%time` and `%timeit` - use the documentation if you need help, using `?`."
   ]
  },
  {
   "cell_type": "markdown",
   "id": "c998fd23-892b-47b3-9236-3f90e954ce15",
   "metadata": {},
   "source": [
    "Write your answer here."
   ]
  },
  {
   "cell_type": "markdown",
   "id": "c15c1188-4508-4217-9a5f-7f2c11a99410",
   "metadata": {},
   "source": [
    "#### Question 1.4\n",
    "\n",
    "What is the different between magic commands that start with `%` and magic commands that start with `%%`?"
   ]
  },
  {
   "cell_type": "markdown",
   "id": "79644f9c-882f-4c0f-bd89-8b563cad011d",
   "metadata": {},
   "source": [
    "Write your answer here"
   ]
  },
  {
   "cell_type": "markdown",
   "id": "595b627f-c558-42d0-a84f-1d1bae13b9f6",
   "metadata": {},
   "source": [
    "# Basics of Python\n",
    "\n",
    "Good guide https://swcarpentry.github.io/python-novice-gapminder/04-built-in.html\n",
    "\n",
    "- Variables\n",
    "- Types\n",
    "- Comments\n",
    "- Built-in Functions\n",
    "- Writing Functions\n",
    "- Classes\n",
    "- Modules"
   ]
  },
  {
   "cell_type": "markdown",
   "id": "42556051-6442-4377-8a22-e933e11cd9ae",
   "metadata": {},
   "source": [
    "## What is Python\n",
    "\n",
    "Python is a general purpose programming language. This differs somewhat from R which is much more focussed on statistics and data analysis. For example in Python you can write GUI applications, web applications, server-side applications, as well as use it for systems administration, machine learning, or statistics. It is a very broad language.\n",
    "\n",
    "Therefore, Python has become probably the most popular language in the world, with the exception of perhaps JavaScript, which is used for web development (and is not as general purpose as Python).\n",
    "\n",
    "We will see from the next section that it is a very simple programming language, with minimal syntax.\n",
    "\n",
    "## Variables\n",
    "\n",
    "You declare variables in much the same way as in R:"
   ]
  },
  {
   "cell_type": "code",
   "execution_count": null,
   "id": "051306aa-e888-4a97-b056-96b8f4d183ce",
   "metadata": {},
   "outputs": [],
   "source": [
    "a = 2"
   ]
  },
  {
   "cell_type": "markdown",
   "id": "6e561562-20be-40ba-9637-ac2b734a599b",
   "metadata": {},
   "source": [
    "Python is **dynamically typed**. This means in Python you do not need to declare which **types** you are using, meaning that you do not need to declare that the variable above is an integer.\n",
    "\n",
    "In other languages you would need to say:\n",
    "\n",
    "```java\n",
    "// Java code\n",
    "int age = 21;\n",
    "String name = \"Marcus\";\n",
    "```\n",
    "\n",
    "What you are doing here is telling Java that `age` will contain an integer and `name` will contain a string.\n",
    "\n",
    "In programming a **type** is the kind of variable. All programming languages will have types such as integers (whole numbers, -3, -2, -1, 0, 1, 2, 3), floats (real numbers, 3.14 or 0.00005), strings (text, \"example\"), collections such as **lists**, **dictionaries**, and **tuples**,  and others.\n",
    "\n",
    "Being dynamically typed doesn't mean Python doesn't have types at all, it just means that they are automatically assigned based on the data. You can find a variable's type at any time using the `type()` function:"
   ]
  },
  {
   "cell_type": "code",
   "execution_count": null,
   "id": "57e6cce7-923a-46ef-8fbc-776f8053560e",
   "metadata": {},
   "outputs": [],
   "source": [
    "type(a)"
   ]
  },
  {
   "cell_type": "code",
   "execution_count": null,
   "id": "e392c531-a34d-421f-be09-7226ebdf92f4",
   "metadata": {},
   "outputs": [],
   "source": [
    "type(\"Example\")"
   ]
  },
  {
   "cell_type": "markdown",
   "id": "8d966e9c-ca69-49ec-be35-d716bd4d2f5e",
   "metadata": {},
   "source": [
    "Therefore, if you try to add two variables of different types, Python will try to work out what you are doing:"
   ]
  },
  {
   "cell_type": "code",
   "execution_count": null,
   "id": "3c9e2b81-e841-4c8a-aa70-d48a91ae1f8f",
   "metadata": {},
   "outputs": [],
   "source": [
    "a = 2\n",
    "b = 4.5\n",
    "\n",
    "print(a + b)"
   ]
  },
  {
   "cell_type": "code",
   "execution_count": null,
   "id": "14ff771a-5e89-4e52-bb0a-c1f3711ee9cc",
   "metadata": {},
   "outputs": [],
   "source": [
    "type(a)"
   ]
  },
  {
   "cell_type": "code",
   "execution_count": null,
   "id": "b0b47e2c-384a-4833-be61-55fe874b97f9",
   "metadata": {},
   "outputs": [],
   "source": [
    "type(b)"
   ]
  },
  {
   "cell_type": "markdown",
   "id": "8c614b2f-d402-4be8-b3cf-2e9a0beb8fa0",
   "metadata": {},
   "source": [
    "Some languages will throw an error for trying this, or at the very least a warning.\n",
    "\n",
    "This automatic type coversion can only go so far, however, as the following demonstrates:"
   ]
  },
  {
   "cell_type": "code",
   "execution_count": null,
   "id": "e1b27787-294f-42bc-81c5-c274e92d92e8",
   "metadata": {},
   "outputs": [],
   "source": [
    "a = 2\n",
    "b = \"4.5\"\n",
    "print(2 + b)"
   ]
  },
  {
   "cell_type": "markdown",
   "id": "f619b5fe-dec2-4c32-833d-16a7073e3974",
   "metadata": {},
   "source": [
    "The solution to this is to **cast** your variable:"
   ]
  },
  {
   "cell_type": "code",
   "execution_count": null,
   "id": "eb76024a-2180-45fa-b2c2-8b3893a65083",
   "metadata": {},
   "outputs": [],
   "source": [
    "a = 2\n",
    "b = \"4.5\"\n",
    "\n",
    "# Convert string b to float\n",
    "b = float(b)\n",
    "\n",
    "print(2 + b)"
   ]
  },
  {
   "cell_type": "markdown",
   "id": "3c2f31d8-c3f8-4e2c-8506-9ad225f12d89",
   "metadata": {},
   "source": [
    "You will use the `print()` function **a lot** to check the output of you commands, and to see what is stored in your variables and so on.\n",
    "\n",
    "Here are some examples of `print()` in use.\n",
    "\n",
    "Printing a string:"
   ]
  },
  {
   "cell_type": "code",
   "execution_count": null,
   "id": "95b4d540-eb5e-451d-82f2-b89371ba2548",
   "metadata": {},
   "outputs": [],
   "source": [
    "print(\"Hello, world\")"
   ]
  },
  {
   "cell_type": "markdown",
   "id": "5f8419d7-f51b-4f16-a0d0-0dddf978200d",
   "metadata": {},
   "source": [
    "Print multiple items, spaces are inserted automatically by default:"
   ]
  },
  {
   "cell_type": "code",
   "execution_count": null,
   "id": "9ec68720-e438-47c6-afc6-08c2e6441fa7",
   "metadata": {},
   "outputs": [],
   "source": [
    "print(\"Hello\", \"ATSP\", \"class\", \"2025\")"
   ]
  },
  {
   "cell_type": "markdown",
   "id": "1c26f470-fc94-40ea-bbdb-9716a1bd90f5",
   "metadata": {},
   "source": [
    "You can change the separator:"
   ]
  },
  {
   "cell_type": "code",
   "execution_count": null,
   "id": "14e5089a-9f4e-4404-801f-e500bc2e3435",
   "metadata": {},
   "outputs": [],
   "source": [
    "print(\"banana\", \"apple\", \"orange\", sep=\", \")"
   ]
  },
  {
   "cell_type": "markdown",
   "id": "9745df15-80c7-47b8-a4bb-14cf6892168d",
   "metadata": {},
   "source": [
    "By default, print() prints a new line after each call:"
   ]
  },
  {
   "cell_type": "code",
   "execution_count": null,
   "id": "bba72b68-86fc-45ae-881c-467dc9931c72",
   "metadata": {},
   "outputs": [],
   "source": [
    "print(\"Item 1\")\n",
    "print(\"Item 2\")"
   ]
  },
  {
   "cell_type": "markdown",
   "id": "7d2f8c42-c2d9-4c5c-8004-fc49ea47442b",
   "metadata": {},
   "source": [
    "You can change this using the `end` parameter:"
   ]
  },
  {
   "cell_type": "code",
   "execution_count": null,
   "id": "91f041b7-b7a9-462a-b379-a820eef94bf5",
   "metadata": {},
   "outputs": [],
   "source": [
    "print(\"Item 1\", end=\" | \")\n",
    "print(\"Item 2\")"
   ]
  },
  {
   "cell_type": "markdown",
   "id": "de0e6bee-bcba-4692-97af-b87ceba2df46",
   "metadata": {},
   "source": [
    "You can print variables directly:"
   ]
  },
  {
   "cell_type": "code",
   "execution_count": null,
   "id": "0ca4f3d9-a147-4e0d-b571-3563107c3017",
   "metadata": {},
   "outputs": [],
   "source": [
    "print(a)"
   ]
  },
  {
   "cell_type": "markdown",
   "id": "448a22d3-da44-4ba1-8ce3-1a2737738799",
   "metadata": {},
   "source": [
    "To print multiple variables:"
   ]
  },
  {
   "cell_type": "code",
   "execution_count": null,
   "id": "f940e481-28eb-47ec-b089-24beb5802610",
   "metadata": {},
   "outputs": [],
   "source": [
    "print(a, b)"
   ]
  },
  {
   "cell_type": "markdown",
   "id": "adc757bf-1236-45e0-83ef-bd1963275d41",
   "metadata": {},
   "source": [
    "You can print a combination of strings and variables using what is known as f-strings.\n",
    "\n",
    "You define an f-string using `f` before the string. Then all variables contained in curly crackets `{}` are printed inline.\n",
    "\n",
    "Here we want to print the contents of the variables `a` and `b`:"
   ]
  },
  {
   "cell_type": "code",
   "execution_count": null,
   "id": "91879555-4bed-482c-956b-d5ae8bd23751",
   "metadata": {},
   "outputs": [],
   "source": [
    "print(f\"The variable a contains {a} and b contains {b}. The sum of these variables is {a+b}.\")"
   ]
  },
  {
   "cell_type": "markdown",
   "id": "56a998ab-bf12-43b4-8eac-611c7e4ddd9e",
   "metadata": {},
   "source": [
    "Notice how you could perform the addition of a+b inline, as anything within the curly braces is executed."
   ]
  },
  {
   "cell_type": "markdown",
   "id": "8666124c-93fc-4fc8-9c56-e8d41b42001c",
   "metadata": {},
   "source": [
    "Python has a number of common operators, such as `+`, `-` and so on:"
   ]
  },
  {
   "cell_type": "code",
   "execution_count": null,
   "id": "38ae4b27-f4ab-4fda-8bda-35573ca02073",
   "metadata": {},
   "outputs": [],
   "source": [
    "a = 8\n",
    "b = 16\n",
    "\n",
    "# Addition and substraction\n",
    "c = b - a\n",
    "print(c)\n",
    "\n",
    "# Multiply\n",
    "d = c*c\n",
    "print(d)"
   ]
  },
  {
   "cell_type": "markdown",
   "id": "f1e6d194-1438-48cd-bd25-6e93469fa6e3",
   "metadata": {},
   "source": [
    "Division:"
   ]
  },
  {
   "cell_type": "code",
   "execution_count": null,
   "id": "650dab26-5605-4556-9fd6-5d90eb75d2e7",
   "metadata": {},
   "outputs": [],
   "source": [
    "15 / 5"
   ]
  },
  {
   "cell_type": "markdown",
   "id": "dd1a2b76-ba4e-4e58-8360-487b3b7fcd9d",
   "metadata": {},
   "source": [
    "Exponentiation is performed using `**`:"
   ]
  },
  {
   "cell_type": "code",
   "execution_count": null,
   "id": "2056fb3b-43a7-415b-9172-c99cf0779dc0",
   "metadata": {},
   "outputs": [],
   "source": [
    "e = c**c\n",
    "print(e)"
   ]
  },
  {
   "cell_type": "markdown",
   "id": "729f7260-5f03-47ef-bce6-920b095f6b08",
   "metadata": {},
   "source": [
    "Notice how a float is returned. \n",
    "\n",
    "By using `//` you will return an integer, rounded down to the nearest integer (like a floor function):"
   ]
  },
  {
   "cell_type": "code",
   "execution_count": null,
   "id": "134e9e0e-c7ab-4d25-bf21-687c105dacac",
   "metadata": {},
   "outputs": [],
   "source": [
    "10 // 3"
   ]
  },
  {
   "cell_type": "markdown",
   "id": "9c9cf9ee-0da9-4607-b9a2-57ef8d117c49",
   "metadata": {},
   "source": [
    "Finally, modulus is `%`:"
   ]
  },
  {
   "cell_type": "code",
   "execution_count": null,
   "id": "4a0f637d-9ead-4f6d-b95f-54a9b8742ad3",
   "metadata": {},
   "outputs": [],
   "source": [
    "10 % 3"
   ]
  },
  {
   "cell_type": "markdown",
   "id": "26f474c2-e9c9-4fd7-bc65-4a2b69c245d8",
   "metadata": {},
   "source": [
    "Which returns the remainder of the division."
   ]
  },
  {
   "cell_type": "markdown",
   "id": "1cbef051-4503-4f4f-b9f0-f5e4a88a87b1",
   "metadata": {},
   "source": [
    "Python includes the standard comparison operators:"
   ]
  },
  {
   "cell_type": "code",
   "execution_count": null,
   "id": "0f57f4fe-b626-4388-b9b0-2296a4663c57",
   "metadata": {},
   "outputs": [],
   "source": [
    "print(a > b)    # Greater than\n",
    "print(a < b)    # Less than\n",
    "print(a >= b)   # Greater than or equal\n",
    "print(a <= b)   # Less than or equal\n",
    "print(a == b)   # Equal to\n",
    "print(a != b)   # Not equal to"
   ]
  },
  {
   "cell_type": "markdown",
   "id": "4068da3c-fce5-4777-9883-34edbf25e26b",
   "metadata": {},
   "source": [
    "Logical operators work on boolean values, in other words `True` or `False`: "
   ]
  },
  {
   "cell_type": "code",
   "execution_count": null,
   "id": "758b240e-e34c-43af-af9e-2db33b472551",
   "metadata": {},
   "outputs": [],
   "source": [
    "x = True\n",
    "y = False\n",
    "print(x and y)  # Logical AND\n",
    "print(x or y)   # Logical OR\n",
    "print(not x)    # Logical NOT"
   ]
  },
  {
   "cell_type": "markdown",
   "id": "8475b278-863f-4159-9258-05f894c84e8e",
   "metadata": {},
   "source": [
    "Assignment operators shortcuts are useful to save some extra characters of code."
   ]
  },
  {
   "cell_type": "code",
   "execution_count": null,
   "id": "3a091a11-16a3-49e5-b3e5-81f1682d9805",
   "metadata": {},
   "outputs": [],
   "source": [
    "c = 5   \n",
    "c += 2  # Add and assign, same as saying c = c + 2\n",
    "print(c)"
   ]
  },
  {
   "cell_type": "markdown",
   "id": "1481b140-ff53-44e3-bca4-8f891436910c",
   "metadata": {},
   "source": [
    "The same add and assign shortcut can be used for `-`, `/`, and `*`:"
   ]
  },
  {
   "cell_type": "code",
   "execution_count": null,
   "id": "5ba700b0-925a-4668-86ae-42b16d7da50c",
   "metadata": {},
   "outputs": [],
   "source": [
    "c = 5\n",
    "c -= 1  # Subtract and assign: c = c - 1\n",
    "print(c)\n",
    "\n",
    "c = 5\n",
    "c *= 2  # Multiply and assign: c = c * 2 \n",
    "print(c)\n",
    "\n",
    "c = 5\n",
    "c /= 3  # Divide and assign: c = c / 3\n",
    "print(c)"
   ]
  },
  {
   "cell_type": "markdown",
   "id": "517d7500-9e73-4412-ae5b-5916b8fcedce",
   "metadata": {},
   "source": [
    "---\n",
    "\n",
    "## Collections\n",
    "\n",
    "There are 4 main collection types in Python, and you will come across all of them in Machine Learning tasks. \n",
    "\n",
    "You can think of collections as lists of items, and each of the 4 collection types have their own distinct properties and characteristics.\n",
    "\n",
    "The 4 collection types are:\n",
    "\n",
    "- Lists\n",
    "- Dictionaries\n",
    "- Sets\n",
    "- Tuples\n",
    "\n",
    "**Note**: There are actually many more than these 4 types of lists in Python, see the `Collections` module (<https://docs.python.org/3/library/collections.html>) which contains some more specialised container types, such as `namedtuple` and `OrderedDict`. These are typically used in very specific scenarios, however."
   ]
  },
  {
   "cell_type": "markdown",
   "id": "b84ac9d7-471a-4237-8922-623816bb2bca",
   "metadata": {},
   "source": [
    "### Lists\n",
    "\n",
    "Lists are unsurprisingly lists of objects. They can be numerical or text, or mixed. \n",
    "\n",
    "- Lists are **mutable**, that means they can be changed after they have been declared. \n",
    "- Lists are **ordered**, meaning their order is defined, which means they will maintain the order in which you added the elements, unless you explicitly change this. \n",
    "- You create lists by placing items inside **square brackets** `[]`, separated by commas.\n",
    "- Lists **allow duplicates**: they can contain multiple occurrences of the same element.\n",
    "\n",
    "Use lists when you have a collection of items where order matters and you might need to change the items (add, remove, or change - i.e. mutable).\n",
    "\n",
    "Below we will demonstate some examples of using lists.\n",
    "\n",
    "Creating lists can be done as follows:"
   ]
  },
  {
   "cell_type": "code",
   "execution_count": null,
   "id": "8497aacc-c077-4a00-b744-1a4a477ad0a1",
   "metadata": {},
   "outputs": [],
   "source": [
    "numbers = [1, 2, 3, 4, 5]\n",
    "print(numbers)\n",
    "\n",
    "mixed = [1, \"hello\", 3.14, True]\n",
    "print(mixed)\n",
    "\n",
    "empty = []\n",
    "print(empty)"
   ]
  },
  {
   "cell_type": "markdown",
   "id": "0d025bc5-0bc2-4ab0-bd7a-a77391206fdc",
   "metadata": {},
   "source": [
    "If we take a look at the `numbers` list, we can see how to add items:"
   ]
  },
  {
   "cell_type": "code",
   "execution_count": null,
   "id": "7fd9f486-9314-48bd-b32a-62dabfecbc1d",
   "metadata": {},
   "outputs": [],
   "source": [
    "# Add to the end\n",
    "numbers.append(6)\n",
    "print(numbers)\n",
    "\n",
    "# Add to the beginning, at index 0\n",
    "numbers.insert(0, 0)\n",
    "print(numbers)\n",
    "\n",
    "# Add multiple items using another list with extend()\n",
    "numbers.extend([7, 8, 9])  \n",
    "print(numbers)"
   ]
  },
  {
   "cell_type": "markdown",
   "id": "e5f1262d-2931-411f-bdfc-b11d0edb90ed",
   "metadata": {},
   "source": [
    "Do not use `append()` to add multiple items to a list! This will add the list to the list as a single item... use `extend()` instead."
   ]
  },
  {
   "cell_type": "markdown",
   "id": "11285949-bc9e-4741-9562-a1ddd282e316",
   "metadata": {},
   "source": [
    "Removing an element can be done using `remove()`. This will remove the **first occurance** of that element:"
   ]
  },
  {
   "cell_type": "code",
   "execution_count": null,
   "id": "ddcc6ab6-9b45-45e5-ad36-3bccf6792b5a",
   "metadata": {},
   "outputs": [],
   "source": [
    "numbers.remove(0)\n",
    "print(numbers)"
   ]
  },
  {
   "cell_type": "markdown",
   "id": "fc570b99-6263-4cbc-a970-55e75334bc36",
   "metadata": {},
   "source": [
    "**Note**: removing **all elements** requires using a Python construct called a **list comprehension**:"
   ]
  },
  {
   "cell_type": "code",
   "execution_count": null,
   "id": "eed3ca4d-4a45-421f-bc0f-012a9c34f68f",
   "metadata": {},
   "outputs": [],
   "source": [
    "numbers_repeated = [1, 2, 2, 2, 2, 2, 3, 4, 5, 6]\n",
    "\n",
    "[i for i in numbers_repeated if i != 2]"
   ]
  },
  {
   "cell_type": "markdown",
   "id": "ee970bdf-281a-4d84-a466-4a6d78c47549",
   "metadata": {},
   "source": [
    "A **list comprehension** is basically a for loop that can be written in one line. There is no built-in function in Python to remove all elements from a list, so a loop is the only way to do it. \n",
    "\n",
    "We will cover comprehensions in more detail later, after we have learned about loops in general. \n",
    "\n",
    "One thing you will use a lot in Python in Data Science or Machine Learning is indexing your data stored in arrays.\n",
    "\n",
    "You do this using square brackets `[]`, and indices are 0-based.\n",
    "\n",
    "Here are some examples:"
   ]
  },
  {
   "cell_type": "code",
   "execution_count": null,
   "id": "7caa1bb1-558a-49bf-96aa-9c30e7219f57",
   "metadata": {},
   "outputs": [],
   "source": [
    "print(numbers)\n",
    "\n",
    "first = numbers[0]  # First element\n",
    "print(first)\n",
    "\n",
    "last = numbers[-1]  # Last element\n",
    "print(last)\n",
    "\n",
    "second_last = numbers[-2]\n",
    "print(second_last)\n",
    "\n",
    "subset = numbers[1:4]  # Slicing: starts at 1 and ends BEFORE 4.\n",
    "print(subset)"
   ]
  },
  {
   "cell_type": "markdown",
   "id": "db69b544-1eea-49ca-9829-d29abf305b74",
   "metadata": {},
   "source": [
    "Above, we saw an example of slicing. One thing that occurs a lot in using Python for Data Science, or Machine Learning is selecting subsets of your data. Later we will go over this in detail, and how to perform complex slicing of your arrays (and 2D and 3D matrices).\n",
    "\n",
    "You can modify elements using `=`. Lists are **mutable** meaning they can be changed after they are created (unlike sets, for example, which we will look at shortly).\n",
    "\n",
    "Here are some examples of modifying a list:"
   ]
  },
  {
   "cell_type": "code",
   "execution_count": null,
   "id": "8f8b2a12-951a-4a07-b202-aab4a3ded046",
   "metadata": {},
   "outputs": [],
   "source": [
    "numbers[0] = 10  # Change first element, at index 0\n",
    "print(numbers)\n",
    "\n",
    "numbers[1:4] = [20, 30, 40]  # Change multiple elements\n",
    "print(numbers)"
   ]
  },
  {
   "cell_type": "markdown",
   "id": "7bfa9e28-541c-48b2-9c28-402680ec20e2",
   "metadata": {},
   "source": [
    "Operations can be performed on lists using `*` and `+`, like you can do on integers. \n",
    "\n",
    "For example:"
   ]
  },
  {
   "cell_type": "code",
   "execution_count": null,
   "id": "f3759df5-d0a9-4f0e-8228-de6780ae010a",
   "metadata": {},
   "outputs": [],
   "source": [
    "doubled = numbers * 2 \n",
    "print(doubled)\n",
    "\n",
    "combined = numbers + [1000, 2000, 3000]\n",
    "print(combined)"
   ]
  },
  {
   "cell_type": "markdown",
   "id": "46bfc4e8-067a-4ac0-b6d6-740d510508f1",
   "metadata": {},
   "source": [
    "You might think that the the `*` would multiply each element of the list instead - it can, and we will get to this later. \n",
    "\n",
    "Sorting is possible, some examples are below:"
   ]
  },
  {
   "cell_type": "code",
   "execution_count": null,
   "id": "43653df8-ae1f-4fc6-a1c6-c83ee1b0a0c4",
   "metadata": {},
   "outputs": [],
   "source": [
    "numbers.sort()  # This sorts in-place\n",
    "print(numbers)\n",
    "\n",
    "# If you do not want this done in place, use sorted()\n",
    "nums = [7,2,19]\n",
    "sorted(nums)\n",
    "print(nums)\n",
    "\n",
    "# Sort in descending order, in place\n",
    "numbers.sort(reverse=True)  \n",
    "print(numbers)\n",
    "\n",
    "# If you do not want in place, create a copy and then reverse it\n",
    "sorted_nums = sorted(numbers) \n",
    "sorted_nums.reverse()\n",
    "print(sorted_nums)"
   ]
  },
  {
   "cell_type": "markdown",
   "id": "ad752e8d-b411-4dcf-831d-492bcf50f3cf",
   "metadata": {},
   "source": [
    "The functions `len`, `min`, and `max` can be used with lists:"
   ]
  },
  {
   "cell_type": "code",
   "execution_count": null,
   "id": "9e1b4fb9-318f-4f00-9bab-1a111df870ff",
   "metadata": {},
   "outputs": [],
   "source": [
    "length = len(numbers)  # Number of elements in list\n",
    "print(length)\n",
    "\n",
    "# Max and min\n",
    "maximum = max(numbers) \n",
    "print(maximum)\n",
    "\n",
    "minimum = min(numbers) \n",
    "print(minimum)"
   ]
  },
  {
   "cell_type": "markdown",
   "id": "7fe53997-8462-4ce1-9a60-ddf043710eb9",
   "metadata": {},
   "source": [
    "Removing items can be done using the `remove()` function (which we saw already above), but also with the `pop()` function or with the `del` keyword:"
   ]
  },
  {
   "cell_type": "code",
   "execution_count": null,
   "id": "5db0d8f1-cda7-49ff-ac57-dcaaef309d90",
   "metadata": {},
   "outputs": [],
   "source": [
    "numbers"
   ]
  },
  {
   "cell_type": "code",
   "execution_count": null,
   "id": "9ae46223-6066-41f4-8ba6-f618e3fd5449",
   "metadata": {},
   "outputs": [],
   "source": [
    "numbers = [1, 45, 90, 6, 17, 88, 22]\n",
    "print(f\"Numbers: {numbers}\")\n",
    "\n",
    "popped = numbers.pop()  # Remove and return the LAST element of the list\n",
    "print(f\"Removed {popped}, leaving {numbers}\")\n",
    "\n",
    "# Remove and return element at index 2\n",
    "popped_index = numbers.pop(2)  \n",
    "print(f\"Removed {popped_index}, leaving {numbers}\")\n",
    "\n",
    "# Delete element at index 1\n",
    "del numbers[1]  \n",
    "print(f\"Removed index 1, leaving {numbers}\")  # Note we do not know which one removed! Using pop() is often better.\n",
    "\n",
    "# Remove all elements, useful if you have a very large list in memory\n",
    "numbers.clear()\n",
    "print(numbers)"
   ]
  },
  {
   "cell_type": "markdown",
   "id": "93cd4972-dd80-4581-ad53-67134d2e4fa4",
   "metadata": {},
   "source": [
    "Lists are used in Data Sciences and Machine Learning all the time, however generally for performance reasons we will often use Numpy arrays instead. We will over these types of arrays later."
   ]
  },
  {
   "cell_type": "markdown",
   "id": "00333494-3e38-4de4-a52e-cb2538595b38",
   "metadata": {},
   "source": [
    "### Sets\n",
    "\n",
    "Sets are like mathematical sets. Here are some of the properties of sets:\n",
    "\n",
    "- **Mutable**: You can add or remove elements from a set\n",
    "- **Unordered**: Sets do not record element position or order of insertion. Why might ask why? This can make them very fast and are useful for containing many millions of elements.\n",
    "- You create sets by placing items inside **curly brackets** {}, or using the `set()` function.\n",
    "- **Duplicates are not allowed**: A set cannot contain multiple occurrences of the same element.\n",
    "\n",
    "You can use sets when you need to ensure that an element only appears once in a collection, often used for membership testing (e.g. storing usernames, email addresses). Also, they are used for mathematical set operations, such as intersection, union, and difference. "
   ]
  },
  {
   "cell_type": "code",
   "execution_count": null,
   "id": "5b34f435-704e-45a9-acc6-6348f711d8b1",
   "metadata": {},
   "outputs": [],
   "source": [
    "# Creating sets\n",
    "numbers = {1, 2, 3, 4, 5}\n",
    "print(numbers)\n",
    "\n",
    "fruits = set(['apple', 'banana', 'cherry'])\n",
    "print(fruits)\n",
    "\n",
    "empty = set()  # Can't use {} as that creates an empty dict\n",
    "print(empty)"
   ]
  },
  {
   "cell_type": "markdown",
   "id": "56f3fb08-b754-4b1c-8010-7b9aa70968c8",
   "metadata": {},
   "source": [
    "**Tip**: you can easily remove duplicates from a list by converting a list into a set, and this works very quickly even for very long lists:"
   ]
  },
  {
   "cell_type": "code",
   "execution_count": null,
   "id": "9b9b6145-f71e-4774-b375-f4358bbca282",
   "metadata": {},
   "outputs": [],
   "source": [
    "numbers = [1, 2, 2, 3, 3, 3, 4, 4, 4, 4]\n",
    "\n",
    "# Convert to set to remove duplicates:\n",
    "unique_numbers = set(numbers)\n",
    "print(unique_numbers)\n",
    "\n",
    "# This also works for string based lists\n",
    "fruits = ['apple', 'banana', 'apple', 'cherry', 'banana', 'apple']\n",
    "unique_fruits = set(fruits)  \n",
    "print(unique_fruits)"
   ]
  },
  {
   "cell_type": "markdown",
   "id": "0fbbfaef-bad8-4e05-8348-dbd66fa58a31",
   "metadata": {},
   "source": [
    "Mathematical union can be done using the `|` operator:"
   ]
  },
  {
   "cell_type": "code",
   "execution_count": null,
   "id": "c3af17bb-f31f-462f-9cec-08dd82411011",
   "metadata": {},
   "outputs": [],
   "source": [
    "set1 = {1, 2, 3, 4}\n",
    "set2 = {3, 4, 5, 6}\n",
    "\n",
    "# Union\n",
    "union = set1 | set2  # Using operator\n",
    "print(union)"
   ]
  },
  {
   "cell_type": "markdown",
   "id": "6e8aac4a-e305-462b-abc2-34171eafa858",
   "metadata": {},
   "source": [
    "Intersection using `&`:"
   ]
  },
  {
   "cell_type": "code",
   "execution_count": null,
   "id": "384bba58-8671-4642-b2d4-db779f8eb255",
   "metadata": {},
   "outputs": [],
   "source": [
    "intersection = set1 & set2\n",
    "print(intersection)"
   ]
  },
  {
   "cell_type": "markdown",
   "id": "44048c3c-8406-4ab6-afd5-b4dae3d4bd4a",
   "metadata": {},
   "source": [
    "Difference using `-`:"
   ]
  },
  {
   "cell_type": "code",
   "execution_count": null,
   "id": "a26f26e3-d72f-4d92-a7ac-0b2bc86af1f6",
   "metadata": {},
   "outputs": [],
   "source": [
    "difference = set1 - set2\n",
    "print(difference)\n",
    "\n",
    "# Here the order matters:\n",
    "difference = set2 - set1\n",
    "print(difference)"
   ]
  },
  {
   "cell_type": "markdown",
   "id": "0f69ed68-4025-4748-9312-6ef1c3f0141f",
   "metadata": {},
   "source": [
    "The symmetric difference using `^` (elements in either set, but not in both):"
   ]
  },
  {
   "cell_type": "code",
   "execution_count": null,
   "id": "c91e72a2-53b2-4100-ad13-b88843aa1060",
   "metadata": {},
   "outputs": [],
   "source": [
    "symetric_diff = set1 ^ set2 \n",
    "print(symetric_diff)"
   ]
  },
  {
   "cell_type": "markdown",
   "id": "d33c9e29-ec95-4418-bbfd-6ceffaa860a2",
   "metadata": {},
   "source": [
    "Checking membership:"
   ]
  },
  {
   "cell_type": "code",
   "execution_count": null,
   "id": "b302cac3-2299-46d3-ae5a-da5b3dcc88a8",
   "metadata": {},
   "outputs": [],
   "source": [
    "is_in = 1 in set1\n",
    "not_in = 1 not in set1\n",
    "\n",
    "print(is_in)\n",
    "print(not_in)\n"
   ]
  },
  {
   "cell_type": "markdown",
   "id": "08074649-aea1-41b7-a1c9-1143da1b11b7",
   "metadata": {},
   "source": [
    "Compare sets using `<=` and `>=` for subset and superset:"
   ]
  },
  {
   "cell_type": "code",
   "execution_count": null,
   "id": "532aa5b8-f3ce-43d2-bd05-51efc3034ebd",
   "metadata": {},
   "outputs": [],
   "source": [
    "# Is set1 a subset of set2?\n",
    "is_subset = set1 <= set2  \n",
    "print(is_subset)\n",
    "\n",
    "# Is set1 a superset of set2?\n",
    "is_superset = set1 >= set2 \n",
    "print(is_superset)"
   ]
  },
  {
   "cell_type": "markdown",
   "id": "ba8077e9-b598-4775-ae36-401ae0832cdc",
   "metadata": {},
   "source": [
    "Check if a set has **no elements in common** using `isdisjoint()`:"
   ]
  },
  {
   "cell_type": "code",
   "execution_count": null,
   "id": "83f63a27-89bd-477a-ab65-56e18dba514b",
   "metadata": {},
   "outputs": [],
   "source": [
    "is_disjoint = set1.isdisjoint(set2)\n",
    "print(is_disjoint)"
   ]
  },
  {
   "cell_type": "code",
   "execution_count": null,
   "id": "b8b8b98f-179d-4e02-9f20-14feffb16e7b",
   "metadata": {},
   "outputs": [],
   "source": [
    "{1,2,3}.isdisjoint({4,5,6})"
   ]
  },
  {
   "cell_type": "markdown",
   "id": "16c76c6f-682f-4541-bd93-56adcdab0b82",
   "metadata": {},
   "source": [
    "### Dictionaries\n",
    "\n",
    "Dictionaries work differently in that they are arranged in key-value pairs. We will see dictionaries often later.\n",
    "\n",
    "- **Mutable**: You can change, add, or delete key-value pairs after the dictionary is created.\n",
    "- **Ordered**: (since Python 3.7) - generally this does not matter, as dictionaries are normally accessed via their keys.\n",
    "- Syntax: Created with **curly brackets** {} containing **key/value pairs** separated by colons, in the form `{'key': 'value'}`. Keys are often strings, but can be integers or even floats. Values can be any type.\n",
    "- **Unique Keys**: The **keys** have to be unique, but values can be duplicated.\n",
    "\n",
    "Usage: Use dictionaries when you need to associate a unique key with a value.\n",
    "\n",
    "Here is a simple dictionary, you can see that it is created using key-value pairs:"
   ]
  },
  {
   "cell_type": "code",
   "execution_count": null,
   "id": "a683fd78-5bc5-454b-8d9c-65c3dc137e06",
   "metadata": {},
   "outputs": [],
   "source": [
    "user = {\n",
    "    'name': 'marcus', \n",
    "    'age': 21, \n",
    "    'city': 'limerick'\n",
    "}\n",
    "\n",
    "print(user)"
   ]
  },
  {
   "cell_type": "markdown",
   "id": "a2e60811-b7f2-4ddc-8956-8f557740dfed",
   "metadata": {},
   "source": [
    "You can access an element of a dictionary using the key:"
   ]
  },
  {
   "cell_type": "code",
   "execution_count": null,
   "id": "9dbc15f7-c3e1-405c-b4cd-2f93d582cb42",
   "metadata": {},
   "outputs": [],
   "source": [
    "user['name']"
   ]
  },
  {
   "cell_type": "markdown",
   "id": "5f413d72-9a2f-464e-8282-5cf452cc5c5b",
   "metadata": {},
   "source": [
    "However, a safer approach is using the `get()` function:"
   ]
  },
  {
   "cell_type": "code",
   "execution_count": null,
   "id": "2b596ec8-fb91-4d39-9c23-9ac020978eb6",
   "metadata": {},
   "outputs": [],
   "source": [
    "user.get('name')"
   ]
  },
  {
   "cell_type": "markdown",
   "id": "267c214c-eb36-4bd8-9389-5c64b0d942fc",
   "metadata": {},
   "source": [
    "Why is `get()` safer? It allows you to set a default value if the key is not found:"
   ]
  },
  {
   "cell_type": "code",
   "execution_count": null,
   "id": "63daed8f-2cb1-4df4-b798-6b17763c607c",
   "metadata": {},
   "outputs": [],
   "source": [
    "user.get('citizenship', 'UNKNOWN')"
   ]
  },
  {
   "cell_type": "markdown",
   "id": "f53827e0-f49d-4dbc-9c61-5b7e72c70632",
   "metadata": {},
   "source": [
    "Using `[]` will just return an error, which you'd have to handle."
   ]
  },
  {
   "cell_type": "code",
   "execution_count": null,
   "id": "8cc363a3-4bbd-4e9b-86ca-8d2c2fe08155",
   "metadata": {},
   "outputs": [],
   "source": [
    "user['citizenship']"
   ]
  },
  {
   "cell_type": "markdown",
   "id": "fd62d1c5-6651-4656-b1cb-61615059faf9",
   "metadata": {},
   "source": [
    "Typically, you would create a dictionary per user, and store these dictionaries in a list, such as:"
   ]
  },
  {
   "cell_type": "code",
   "execution_count": null,
   "id": "adbdd9b3-c8f2-4482-961b-1f34a49d0e2e",
   "metadata": {},
   "outputs": [],
   "source": [
    "users = [\n",
    "    {'name': 'marcus', 'age': 21}, \n",
    "    {'name': 'matilda', 'age': 4},\n",
    "    {'name': 'theo', 'age': 1}\n",
    "]"
   ]
  },
  {
   "cell_type": "markdown",
   "id": "d30a8f6c-00b8-418b-9755-9aec4f7ac810",
   "metadata": {},
   "source": [
    "And access each item using the list's index:"
   ]
  },
  {
   "cell_type": "code",
   "execution_count": null,
   "id": "a5f961d0-5d19-49fc-abf7-cd96eec9df96",
   "metadata": {},
   "outputs": [],
   "source": [
    "for user in users:\n",
    "    print(user['name'])"
   ]
  },
  {
   "cell_type": "markdown",
   "id": "b7e81275-c248-499b-83a4-e2a0a8b810b5",
   "metadata": {},
   "source": [
    "You can add and udpate fields as follows:"
   ]
  },
  {
   "cell_type": "code",
   "execution_count": null,
   "id": "1cfb9f19-f0a1-453a-a43b-77e63a43fda3",
   "metadata": {},
   "outputs": [],
   "source": [
    "# Adding new key-value pair\n",
    "user['email'] = 'marcus@example.com'\n",
    "print(user)\n",
    "\n",
    "# Updating existing value to \n",
    "user['age'] = 44  \n",
    "print(user)"
   ]
  },
  {
   "cell_type": "markdown",
   "id": "97dbe119-77af-4887-89fc-1247861c038e",
   "metadata": {},
   "source": [
    "If you want to remove items, then use `del` or `pop()`:"
   ]
  },
  {
   "cell_type": "code",
   "execution_count": null,
   "id": "e1a66a14-8227-4c23-aaae-58c31cba6638",
   "metadata": {},
   "outputs": [],
   "source": [
    "del user['age']\n",
    "print(user)\n",
    "\n",
    "# Remove an item and return it\n",
    "removed_value = user.pop('email')\n",
    "print(user)\n",
    "print(removed_value)"
   ]
  },
  {
   "cell_type": "markdown",
   "id": "25079acf-1cac-49f3-9697-cf00ac7435cc",
   "metadata": {},
   "source": [
    "To check if a dictionary has a particular **key**, use `in`:"
   ]
  },
  {
   "cell_type": "code",
   "execution_count": null,
   "id": "27a0399f-653b-4a5e-9a69-4eb9d619bc8a",
   "metadata": {},
   "outputs": [],
   "source": [
    "if 'name' in user:\n",
    "    print(\"The 'name' key exists in the dictionary.\")"
   ]
  },
  {
   "cell_type": "markdown",
   "id": "48459c94-4d40-439f-b323-ea78a6022d60",
   "metadata": {},
   "source": [
    "To access the data, we use the functions `keys()`, `values()`, and `items()`:"
   ]
  },
  {
   "cell_type": "code",
   "execution_count": null,
   "id": "ccd4e942-2e68-407c-af9c-6d2102e069c2",
   "metadata": {},
   "outputs": [],
   "source": [
    "keys = user.keys()\n",
    "print(keys)\n",
    "\n",
    "values = user.values()\n",
    "print(values)\n",
    "\n",
    "items = user.items()  \n",
    "print(items)  # returns a list of key,value pairs."
   ]
  },
  {
   "cell_type": "markdown",
   "id": "4313b3de-38ec-4fda-bd41-994c6c4d60f4",
   "metadata": {},
   "source": [
    "You can loop through the dictionary in many ways, here is one example to print each key/value pair in a dictionary:"
   ]
  },
  {
   "cell_type": "code",
   "execution_count": null,
   "id": "b111cc41-ee48-42a1-8b0f-1eb1eaa1d599",
   "metadata": {},
   "outputs": [],
   "source": [
    "for key in user:\n",
    "    print(key, user[key])"
   ]
  },
  {
   "cell_type": "markdown",
   "id": "c63e81e1-d9d8-4544-afaa-231cbcd1d634",
   "metadata": {},
   "source": [
    "Or using the `items()` function, which returns the each key/value pair in the dictionary:"
   ]
  },
  {
   "cell_type": "code",
   "execution_count": null,
   "id": "724e244d-e1e9-49ca-a102-2028ece1dcc0",
   "metadata": {},
   "outputs": [],
   "source": [
    "for key, value in user.items():\n",
    "    print(key, value)"
   ]
  },
  {
   "cell_type": "markdown",
   "id": "d73d8f78-dd4b-4ef7-b6c0-8c7f7f54c21d",
   "metadata": {},
   "source": [
    "If you only cared about the values, then we can use the `values()` function:"
   ]
  },
  {
   "cell_type": "code",
   "execution_count": null,
   "id": "46647d32-a65a-425e-a99a-0eef99f182dd",
   "metadata": {},
   "outputs": [],
   "source": [
    "for value in user.values():\n",
    "    print(value)"
   ]
  },
  {
   "cell_type": "markdown",
   "id": "57a35c7c-e13d-4462-adf3-84690506b1f3",
   "metadata": {},
   "source": [
    "If you want to merge two dictionaries, then use the `update()` function:"
   ]
  },
  {
   "cell_type": "code",
   "execution_count": null,
   "id": "039c2a58-fd38-4c37-96f4-e4c899748c7b",
   "metadata": {},
   "outputs": [],
   "source": [
    "# Merging dictionaries\n",
    "dict1 = {'name': 'marcus', 'age': 44}\n",
    "dict2 = {'city': 'limerick', 'salary': 1575.55}\n",
    "dict1.update(dict2)\n",
    "print(dict1)"
   ]
  },
  {
   "cell_type": "markdown",
   "id": "601f53b4-7716-457a-9050-30ce78dd5279",
   "metadata": {},
   "source": [
    "### Tuples\n",
    "\n",
    "Tuples are **immutable** (unchangeable), ordered, and can contain duplicate items.\n",
    "\n",
    "- **Immutable**: Once a tuple is created, you cannot change it, cannot add elements to it, or remove elements from it\n",
    "- **Ordered**: The items have a defined order\n",
    "- Syntax: Created by placing items inside **parentheses** `()`, separated by commas\n",
    "- **Duplicates are allowed**: Tuples can contain multiple occurrences of the same element\n",
    "\n",
    "Usage: Use tuples when you have an ordered collection of items that should never change! \n",
    "\n",
    "Creating tuples is done with round brackets/parentheses `()`:"
   ]
  },
  {
   "cell_type": "code",
   "execution_count": null,
   "id": "b3a21d57-861f-412e-8a04-72c5f05a7907",
   "metadata": {},
   "outputs": [],
   "source": [
    "numbers = (1, 2, 3, 4, 5)\n",
    "print(numbers)\n",
    "\n",
    "# Creating a single element tuple needs a comma:\n",
    "single_element = (1,)\n",
    "print(single_element)\n",
    "\n",
    "# Empty tuple:\n",
    "empty = ()\n",
    "print(empty)\n",
    "\n",
    "# Mixed type tuple:\n",
    "mixed = (1, \"hello\", 3.14, True)\n",
    "print(mixed)"
   ]
  },
  {
   "cell_type": "markdown",
   "id": "7696420c-dbcb-47ab-8928-bf44b463a430",
   "metadata": {},
   "source": [
    "You can access elements much like lists:"
   ]
  },
  {
   "cell_type": "code",
   "execution_count": null,
   "id": "e3e19147-17f7-4d1f-a8ef-fe2b6633b28d",
   "metadata": {},
   "outputs": [],
   "source": [
    "# First element\n",
    "first = numbers[0]  \n",
    "print(first)\n",
    "\n",
    "# Last element\n",
    "last = numbers[-1]\n",
    "print(last)\n",
    "\n",
    "# Slicing: elements at index 1, 2, and 3\n",
    "subset = numbers[1:4] \n",
    "print(subset)"
   ]
  },
  {
   "cell_type": "markdown",
   "id": "0d8679f9-2a53-4a93-9ade-1ef42b780655",
   "metadata": {},
   "source": [
    "We will look at so-called 'slicing' of data structures in much more detail later.\n",
    "\n",
    "You can count elements easily using `count()`:"
   ]
  },
  {
   "cell_type": "code",
   "execution_count": null,
   "id": "c7e6a6fa-184b-4323-b7d0-6d7022baa210",
   "metadata": {},
   "outputs": [],
   "source": [
    "pi = (3, 1, 4, 1, 5, 9)\n",
    "pi.count(1)"
   ]
  },
  {
   "cell_type": "markdown",
   "id": "13cebc0f-838a-4bbb-9e5c-19a3eeaa4e2a",
   "metadata": {},
   "source": [
    "And check for membership using `in`:"
   ]
  },
  {
   "cell_type": "code",
   "execution_count": null,
   "id": "3ba604c2-6b59-4cb7-900d-bc355690355b",
   "metadata": {},
   "outputs": [],
   "source": [
    "exists = 1 in pi\n",
    "print(exists)"
   ]
  },
  {
   "cell_type": "markdown",
   "id": "13c99e26-effe-4e01-b57d-8c2012729adf",
   "metadata": {},
   "source": [
    "If you want a list just use the `list()` function:"
   ]
  },
  {
   "cell_type": "code",
   "execution_count": null,
   "id": "99515794-bda9-4488-9b3a-d7913a1a7609",
   "metadata": {},
   "outputs": [],
   "source": [
    "pi_list = list(pi)\n",
    "type(pi_list)"
   ]
  },
  {
   "cell_type": "markdown",
   "id": "547751b3-55e3-458f-816c-e1bcff83b2c2",
   "metadata": {},
   "source": [
    "You can use `min()`, `max()`, and `len()` with tuples:"
   ]
  },
  {
   "cell_type": "code",
   "execution_count": null,
   "id": "eea4fcd9-978c-446c-9ded-3d8e5fdfc905",
   "metadata": {},
   "outputs": [],
   "source": [
    "length = len(pi)\n",
    "print(length)\n",
    "\n",
    "# Max and min\n",
    "maximum = max(pi)\n",
    "print(maximum)\n",
    "\n",
    "minimum = min(pi)\n",
    "print(minimum)"
   ]
  },
  {
   "cell_type": "markdown",
   "id": "d10a093e-2d9b-4c20-885b-00730c7538bf",
   "metadata": {},
   "source": [
    "You can sort a tuple using the `sorted()` function, but it returns a new list, which you need to convert back in to a new tuple:"
   ]
  },
  {
   "cell_type": "code",
   "execution_count": null,
   "id": "239e7295-c7d3-4ac1-b343-3ef89c7d0c0c",
   "metadata": {},
   "outputs": [],
   "source": [
    "sorted_tuple = tuple(sorted(pi))\n",
    "print(sorted_tuple)"
   ]
  },
  {
   "cell_type": "markdown",
   "id": "6b1579ee-9353-4b7d-8618-3b93bf78b880",
   "metadata": {},
   "source": [
    "This is because tuples are immutable, so they cannot be sorted directly."
   ]
  },
  {
   "cell_type": "markdown",
   "id": "0cf56df9-a147-4082-8268-4570ad050fc8",
   "metadata": {},
   "source": [
    "### Exercise 2: Collections and Data Structures"
   ]
  },
  {
   "cell_type": "markdown",
   "id": "3ad85973-4bee-45ca-9498-f75b99138e10",
   "metadata": {},
   "source": [
    "#### Question 2.1\n",
    "\n",
    "Create a **list** of students, where each student is a **dictionary** within that list. \n",
    "\n",
    "The dictionary should contain their name, age, and matriculation number"
   ]
  },
  {
   "cell_type": "code",
   "execution_count": null,
   "id": "34c54401-f614-48e9-bc13-80e743eb66f1",
   "metadata": {},
   "outputs": [],
   "source": [
    "# Your answer here\n"
   ]
  },
  {
   "cell_type": "markdown",
   "id": "7b52328e-dbf4-4476-9d9b-c6afa5f2aac1",
   "metadata": {},
   "source": [
    "#### Question 2.2\n",
    "\n",
    "Find the second largest number in the `exercise_list1` list below."
   ]
  },
  {
   "cell_type": "code",
   "execution_count": null,
   "id": "76cf146c-468e-450a-9fef-f49cf2badf5a",
   "metadata": {},
   "outputs": [],
   "source": [
    "exercise_list1 = [3, 55, 11, 109, 60, 90, 3, 27]\n",
    "\n",
    "# Add your code here:\n",
    "sorted_list = sorted(exercise_list1)\n",
    "sorted_list[-2]"
   ]
  },
  {
   "cell_type": "markdown",
   "id": "7bf855e2-b332-4af7-8b75-976059912294",
   "metadata": {},
   "source": [
    "#### Question 2.3\n",
    "\n",
    "Create a list of colours called `colours`, with at least 3 colours. \n",
    "\n",
    "Then add a colour to this list, and print the list:"
   ]
  },
  {
   "cell_type": "code",
   "execution_count": null,
   "id": "3128a11d-e633-4859-9207-0a992ec8bc6e",
   "metadata": {},
   "outputs": [],
   "source": [
    "colours = ['red', 'green', 'blue']\n",
    "\n",
    "colours.append('purple')\n",
    "\n",
    "print(colours)"
   ]
  },
  {
   "cell_type": "markdown",
   "id": "8902d9d9-fc44-4c12-9634-15e0c4e00406",
   "metadata": {},
   "source": [
    "Now, remove the first element of the list:"
   ]
  },
  {
   "cell_type": "code",
   "execution_count": null,
   "id": "f2c904d4-ad02-4308-8834-2301d15a88ae",
   "metadata": {},
   "outputs": [],
   "source": [
    "colours.remove('red')\n",
    "colours"
   ]
  },
  {
   "cell_type": "markdown",
   "id": "48e09a17-b48c-4b31-a8ae-f6ebf3e96b8d",
   "metadata": {},
   "source": [
    "Check if the colour turquoise is in the `colours` list. Hint: the `in` keyword is what you want to use. This can be done in one line."
   ]
  },
  {
   "cell_type": "code",
   "execution_count": null,
   "id": "609cc9d4-9ae4-4ed0-b1a5-79e6338719f3",
   "metadata": {},
   "outputs": [],
   "source": [
    "'turquoise' in colours"
   ]
  },
  {
   "cell_type": "markdown",
   "id": "9a3106ce-ea42-4daa-b2e2-efc7fee60921",
   "metadata": {},
   "source": [
    "## Control Flow\n",
    "\n",
    "Python like any other langauge uses statements such as `if` and `else` to control the flow of a programme. \n",
    "\n",
    "In this course, we will only really be using `if`, `else` statements, and `for` loops. Therefore we will cover these now. \n",
    "\n",
    "We will use `if`/`else` statements to control the flow of the code, and we will mostly use `for` to loop over lists, sets, and so on. \n",
    "\n",
    "So you should of course all be aware of `if`, `else`, `elif` and so on from the introductory course:"
   ]
  },
  {
   "cell_type": "code",
   "execution_count": null,
   "id": "eb224cd5-7184-4ebf-b39f-10a5be9b5230",
   "metadata": {},
   "outputs": [],
   "source": [
    "age = 18\n",
    "\n",
    "if age >= 18:\n",
    "    print(\"You are an adult\")"
   ]
  },
  {
   "cell_type": "markdown",
   "id": "a6f71fb8-75ac-4db7-9ced-93cf862d74c4",
   "metadata": {},
   "source": [
    "The comparison here `>=` meaning greater than or equal to.\n",
    "\n",
    "A `else` statement allows you to capture flow if the `if` statement does not execute:"
   ]
  },
  {
   "cell_type": "code",
   "execution_count": null,
   "id": "8420d878-f147-48d8-a8da-859c6bac95d8",
   "metadata": {},
   "outputs": [],
   "source": [
    "age = 16\n",
    "\n",
    "if age >= 18:\n",
    "    print(\"You are an adult\")\n",
    "else:\n",
    "    print(\"You are a minor\")"
   ]
  },
  {
   "cell_type": "markdown",
   "id": "5b8a015d-cd63-4d16-ae80-88a044ac31bd",
   "metadata": {},
   "source": [
    "The `elif` statement means \"else if\" and is used as follows:"
   ]
  },
  {
   "cell_type": "code",
   "execution_count": null,
   "id": "ee2a1c51-d0d7-486d-a2de-1371d99336ee",
   "metadata": {},
   "outputs": [],
   "source": [
    "score = 85\n",
    "\n",
    "if score >= 90:\n",
    "    print(\"A grade\")\n",
    "elif score >= 80:\n",
    "    print(\"B grade\")\n",
    "elif score >= 70:\n",
    "    print(\"C grade\")\n",
    "elif score >= 60:\n",
    "    print(\"D grade\")\n",
    "else:\n",
    "    print(\"F grade\")"
   ]
  },
  {
   "cell_type": "markdown",
   "id": "f34262f8-eb7b-4f19-9a41-dcdfc5f5631a",
   "metadata": {},
   "source": [
    "It basically executes each successive comparison, and if none are executed, then finally the `else` statement executes.\n",
    "\n",
    "You can have multiple conditions on one line, and this is seen often, which you combine using logical operators such as `and` and `or`. \n",
    "\n",
    "For example:"
   ]
  },
  {
   "cell_type": "code",
   "execution_count": null,
   "id": "adb97794-4e47-415f-acde-4cbfcd979216",
   "metadata": {},
   "outputs": [],
   "source": [
    "age = 25\n",
    "income = 50_000 \n",
    "\n",
    "# AND operator - both conditions must be true\n",
    "if age > 18 and income > 30_000:\n",
    "    print(\"Loan approved\")"
   ]
  },
  {
   "cell_type": "markdown",
   "id": "d93b8e32-f271-4be8-851c-28ad245ab6ca",
   "metadata": {},
   "source": [
    "The `or` statement means at least one must be true:"
   ]
  },
  {
   "cell_type": "code",
   "execution_count": null,
   "id": "e6ad7206-40b6-4086-8bdd-a9c7e4aabc35",
   "metadata": {},
   "outputs": [],
   "source": [
    "# OR operator - at least one condition must be true\n",
    "if age < 18 or income < 10000:\n",
    "    print(\"Loan denied\")"
   ]
  },
  {
   "cell_type": "markdown",
   "id": "1100406e-8cd0-4ccf-bc2e-9fa60505b1d9",
   "metadata": {},
   "source": [
    "## Loops\n",
    "\n",
    "The `for` loop in Python is most common type of loop. It simply iterates over all elements of a list for example. We will see this many times during the seminar.\n",
    "\n",
    "The most common usage of `for` is used with `in`, as follows:"
   ]
  },
  {
   "cell_type": "code",
   "execution_count": null,
   "id": "8a209a83-bd01-4c0c-81d4-23ce09d27856",
   "metadata": {},
   "outputs": [],
   "source": [
    "fruits = [\"apple\", \"banana\", \"cherry\"]\n",
    "\n",
    "for fruit in fruits:\n",
    "    print(fruit)"
   ]
  },
  {
   "cell_type": "markdown",
   "id": "c9509d5d-7f46-409d-83c1-f9db6c12bfe0",
   "metadata": {},
   "source": [
    "Imagine you have a list of colours: `[\"red\", \"blue\", \"green\", \"orange\"]` and you wanted to loop over it."
   ]
  },
  {
   "cell_type": "markdown",
   "id": "7d660349-87cb-4e5b-a4d8-d57b48e730c2",
   "metadata": {},
   "source": [
    "### The `reversed` keyword\n",
    "\n",
    "How would you iterate over a list backwards?\n",
    "\n",
    "We just have to use the `reversed` keyword:"
   ]
  },
  {
   "cell_type": "code",
   "execution_count": null,
   "id": "aba45276-2e36-4b08-bec1-9969a788488a",
   "metadata": {},
   "outputs": [],
   "source": [
    "for colour in reversed(colours):\n",
    "    print(colour)"
   ]
  },
  {
   "cell_type": "markdown",
   "id": "32f1bd4a-cdb6-44fa-9ded-37709f41640c",
   "metadata": {},
   "source": [
    "### Looping in sorted order\n",
    "\n",
    "You can use the `sorted()` function to loop in sorted order: "
   ]
  },
  {
   "cell_type": "code",
   "execution_count": null,
   "id": "b6be9455-8604-477e-860c-1148ec947e6b",
   "metadata": {},
   "outputs": [],
   "source": [
    "for colour in sorted(colours):\n",
    "    print(colour)"
   ]
  },
  {
   "cell_type": "markdown",
   "id": "8f43372d-2dd1-4e7f-b7bc-0813936ad0a5",
   "metadata": {},
   "source": [
    "What if you wanted reverse order? You can pass the argument `reverse=True`:"
   ]
  },
  {
   "cell_type": "code",
   "execution_count": null,
   "id": "c5051b2c-9f2b-4851-adf0-e3d53f0a077b",
   "metadata": {
    "jupyter": {
     "source_hidden": true
    }
   },
   "outputs": [],
   "source": [
    "for colour in sorted(colours, reverse=True):\n",
    "    print(colour)"
   ]
  },
  {
   "cell_type": "markdown",
   "id": "9d01c268-44e3-44d6-ae80-2cafb157d431",
   "metadata": {},
   "source": [
    "### Looping over a Dictionary\n",
    "\n",
    "So far we have been looping over lists. It is also very easy to loop over a dictionary in Python. \n",
    "\n",
    "If you use `for` and `in` on a dictionary you loop over its keys.\n",
    "\n",
    "Imagine you had the following dictionary:"
   ]
  },
  {
   "cell_type": "code",
   "execution_count": null,
   "id": "25c21c92-7e91-435b-b755-82b6a68a2b14",
   "metadata": {},
   "outputs": [],
   "source": [
    "dict = {'matilda': 'red', \n",
    "        'theo': 'green', \n",
    "        'liam': 'yellow'}"
   ]
  },
  {
   "cell_type": "code",
   "execution_count": null,
   "id": "5916a338-d29b-48dd-b278-84ec8ce64ead",
   "metadata": {},
   "outputs": [],
   "source": [
    "for key in dict:\n",
    "    print(key)"
   ]
  },
  {
   "cell_type": "markdown",
   "id": "e2d204ae-c322-4c5e-b5fa-c2b48deba71f",
   "metadata": {},
   "source": [
    "Notice that `key` contains the keys, as this is often what you want to loop over, and access it's contents within the loop."
   ]
  },
  {
   "cell_type": "code",
   "execution_count": null,
   "id": "6afcf1ab-4906-4a38-8eed-20cca5b53a2f",
   "metadata": {},
   "outputs": [],
   "source": [
    "for key in dict:\n",
    "    print(dict[key])"
   ]
  },
  {
   "cell_type": "markdown",
   "id": "a3718a08-7397-4a10-bf23-1a92db9c019f",
   "metadata": {},
   "source": [
    "If you wish to access the keys and values, you can use the `items()` function:"
   ]
  },
  {
   "cell_type": "code",
   "execution_count": null,
   "id": "6f1da208-ffb7-4013-a1f0-b03418e49d0e",
   "metadata": {},
   "outputs": [],
   "source": [
    "for key, value in dict.items():\n",
    "    print(value)"
   ]
  },
  {
   "cell_type": "markdown",
   "id": "b483c4f9-9a29-4df2-b0f0-f4a7ee0ac882",
   "metadata": {},
   "source": [
    "### Looping with indices\n",
    "\n",
    "Notice when you loop using `for` and `in`, you do not get the indices of the list. Sometimes you may want that.\n",
    "\n",
    "One way to do this would be to say:"
   ]
  },
  {
   "cell_type": "code",
   "execution_count": null,
   "id": "64ef06ab-3750-4abc-8b0b-70e16f84b8d2",
   "metadata": {},
   "outputs": [],
   "source": [
    "colours = ['red', 'green', 'yellow', 'orange', 'purple']\n",
    "\n",
    "for i in range(len(colours)):\n",
    "    print(i, \" --> \", colours[i])"
   ]
  },
  {
   "cell_type": "markdown",
   "id": "ee12af93-72af-4bbf-94ee-9e63541c0342",
   "metadata": {},
   "source": [
    "This is the C way. In Python just use `enumerate`:"
   ]
  },
  {
   "cell_type": "code",
   "execution_count": null,
   "id": "7fb63c6f-dad8-485d-9a4e-6100fcfe9273",
   "metadata": {},
   "outputs": [],
   "source": [
    "for i, colour in enumerate(colours):\n",
    "    print(i, \" --> \", colour)"
   ]
  },
  {
   "cell_type": "markdown",
   "id": "7fe98fbe-1c41-4091-9631-76cc0fdb5ba5",
   "metadata": {},
   "source": [
    "You will see the `enumerate()` function often in Python when using it for Machine Learning and Data Science work. \n",
    "\n",
    "Basically, `enumerate()` enumerates of a list, and returns the item in the list and its index."
   ]
  },
  {
   "cell_type": "markdown",
   "id": "fa29fb67-07c0-4314-8572-5564d143f968",
   "metadata": {},
   "source": [
    "#### Question 2.4\n",
    "\n",
    "Given the list `input` below, print only the even numbers. \n",
    "\n",
    "The operator modulus operator `%` can be used, for example.\n",
    "\n",
    "Use your knowledge of `for` loops using `in` and your knowledge of `if` statements. "
   ]
  },
  {
   "cell_type": "code",
   "execution_count": null,
   "id": "eadf8926-e101-46a5-af01-ee028653d677",
   "metadata": {},
   "outputs": [],
   "source": [
    "input = [1, 2, 3, 4, 5, 6, 7, 8, 9]\n",
    "\n",
    "for i in input:\n",
    "    if i % 2 == 0:\n",
    "        print(i)"
   ]
  },
  {
   "cell_type": "markdown",
   "id": "ce50c085-7efb-4f3b-a2a4-d06c6d6a0ed5",
   "metadata": {},
   "source": [
    "## Functions\n",
    "\n",
    "Functions are very similar to those in R or other languages. \n",
    "\n",
    "You define a new function using `def`, name the function (in this case `add_numbers()`), define its parameters (in this case `a` and `b`), and define what it returns (in this case the sum of `a` and `b`, which is stored in `answer`):"
   ]
  },
  {
   "cell_type": "code",
   "execution_count": null,
   "id": "5843c212-c8af-4d11-8ce9-cdddb39f3ea2",
   "metadata": {},
   "outputs": [],
   "source": [
    "def add_numbers(a, b):\n",
    "    answer = a + b\n",
    "    \n",
    "    return answer"
   ]
  },
  {
   "cell_type": "markdown",
   "id": "af35bf09-c46e-41bf-b42d-c74f5eaf2433",
   "metadata": {},
   "source": [
    "The function is now defined. It will not execute until you call it. \n",
    "\n",
    "We shall do so now and add the numbers 5 and 10:"
   ]
  },
  {
   "cell_type": "code",
   "execution_count": null,
   "id": "00524c0a-5f68-42a9-9e9e-5ee2b7036aa0",
   "metadata": {},
   "outputs": [],
   "source": [
    "add_numbers(5, 10)"
   ]
  },
  {
   "cell_type": "markdown",
   "id": "d751d288-c54a-460d-bc47-8ddbbde5ce1d",
   "metadata": {},
   "source": [
    "We will not get into more detail than that, if you know how to define a functions and call it, then this is sufficient knowledge for this course."
   ]
  },
  {
   "cell_type": "markdown",
   "id": "80201789-4c09-4258-a8b0-cedad8ea44ca",
   "metadata": {},
   "source": [
    "#### Question 2.5\n",
    "\n",
    "Write a function that returns a list in reverse sorted order."
   ]
  },
  {
   "cell_type": "code",
   "execution_count": null,
   "id": "1cf1d0f0-f3ea-4464-a0c7-d9e5ca5631da",
   "metadata": {},
   "outputs": [],
   "source": [
    "# Write your code here"
   ]
  },
  {
   "cell_type": "markdown",
   "id": "29630e95-8a91-4616-8df0-79ee146cd39b",
   "metadata": {},
   "source": [
    "### The `zip` keyword\n",
    "\n",
    "Imagine you had two lists:"
   ]
  },
  {
   "cell_type": "code",
   "execution_count": null,
   "id": "946f7bd3-0d5e-4fa7-9847-7db8f7d23d1d",
   "metadata": {},
   "outputs": [],
   "source": [
    "names = [\"Matilda\", \"Theo\", \"Liam\"]\n",
    "colours = ['red', 'green', 'yellow', 'orange', 'purple']"
   ]
  },
  {
   "cell_type": "markdown",
   "id": "4fe01bc7-0820-4954-9624-7f041ad98969",
   "metadata": {},
   "source": [
    "And you want to loop over both lists, pairwise, one at a time. How would you do this?\n",
    "\n",
    "You could say:"
   ]
  },
  {
   "cell_type": "code",
   "execution_count": null,
   "id": "e88b815e-0450-448b-8f23-a25e7fb1399a",
   "metadata": {},
   "outputs": [],
   "source": [
    "n = min(len(names), len(colours))\n",
    "\n",
    "for i in range(n):\n",
    "    print(names[i], \" --> \", colours[i])"
   ]
  },
  {
   "cell_type": "markdown",
   "id": "e928ce98-d7ea-499e-8c0d-5e78f9e9d4f7",
   "metadata": {},
   "source": [
    "This works but in Python there is of course a better way, by using the `zip` keyword:"
   ]
  },
  {
   "cell_type": "code",
   "execution_count": null,
   "id": "dc68ee30-8b15-4c57-bade-1e2d6f6b2f85",
   "metadata": {},
   "outputs": [],
   "source": [
    "for name, colour in zip(names, colours):\n",
    "    print(name, \" --> \", colour)"
   ]
  },
  {
   "cell_type": "markdown",
   "id": "ffe4d762-22f9-4bca-a8a5-bef18d8072af",
   "metadata": {},
   "source": [
    "If the lists are differnet lengths, it operates on the length of the shortest list:"
   ]
  },
  {
   "cell_type": "code",
   "execution_count": null,
   "id": "ef0d48e3-c923-46bd-a931-3dfebb89e5a1",
   "metadata": {},
   "outputs": [],
   "source": [
    "list(zip(['a','b','c'], [1,2]))"
   ]
  },
  {
   "cell_type": "markdown",
   "id": "cf66f8b9-e0ca-4e2f-85e8-3bddbfc5a4b7",
   "metadata": {},
   "source": [
    "### The `range()` function\n",
    "\n",
    "The `range()` function is very useful for creating arrays of dummy data, etc.\n",
    "\n",
    "For example, for the numbers 0 to 9:"
   ]
  },
  {
   "cell_type": "code",
   "execution_count": null,
   "id": "04bec8e6-056e-4c84-8d69-b3a735ccc233",
   "metadata": {},
   "outputs": [],
   "source": [
    "for i in range(10):\n",
    "    print(i)"
   ]
  },
  {
   "cell_type": "markdown",
   "id": "d72cfb67-a3ac-4b85-9163-69912342702f",
   "metadata": {},
   "source": [
    "When passing only one value n, you get the values 0 to n, not including n. \n",
    "\n",
    "The function actually takes the form `range([start,] end [,step])` so that you can say the following also, for example:"
   ]
  },
  {
   "cell_type": "code",
   "execution_count": null,
   "id": "8260f741-14cb-42ca-bd60-e022f3e9e023",
   "metadata": {},
   "outputs": [],
   "source": [
    "for j in range(10,20):\n",
    "    print(j)"
   ]
  },
  {
   "cell_type": "markdown",
   "id": "dd0ca574-0f66-4816-bc30-88c3cf68c2c4",
   "metadata": {},
   "source": [
    "Here you passing the start and end values. It includes the start value, but does not include the end value.\n",
    "\n",
    "Also you can specify a step also, for example:"
   ]
  },
  {
   "cell_type": "code",
   "execution_count": null,
   "id": "2fc917cc-cd53-4385-9d3a-d43b5a0ca708",
   "metadata": {},
   "outputs": [],
   "source": [
    "for k in range(10,20,2):\n",
    "    print(k)"
   ]
  },
  {
   "cell_type": "markdown",
   "id": "cb7afb17-6460-453e-927d-904c01d647c9",
   "metadata": {},
   "source": [
    "### The `any()` and `all()` functions\n",
    "\n",
    "The `any()` and `all()` functions are very useful for checking the contents of lists."
   ]
  },
  {
   "cell_type": "code",
   "execution_count": null,
   "id": "f5c57494-9e79-4254-9b2c-d83663819727",
   "metadata": {},
   "outputs": [],
   "source": [
    "a = [False, True, True, True]\n",
    "any(a)"
   ]
  },
  {
   "cell_type": "markdown",
   "id": "2ed7821f-b272-4e8f-8bb8-18c05a53fd85",
   "metadata": {},
   "source": [
    "This asks if any of the items in the list are true."
   ]
  },
  {
   "cell_type": "code",
   "execution_count": null,
   "id": "8158b3c5-e6ec-4db5-8d32-49dc843d1d17",
   "metadata": {},
   "outputs": [],
   "source": [
    "all(a)"
   ]
  },
  {
   "cell_type": "markdown",
   "id": "1bf258ef-90b0-4c2b-b2f0-f9028bb129e1",
   "metadata": {},
   "source": [
    "While this checks to see if all the items in the list are true."
   ]
  },
  {
   "cell_type": "markdown",
   "id": "3d5096e2-b48c-4b90-b5ee-16ff2a1d62e4",
   "metadata": {},
   "source": [
    "## Packages\n",
    "\n",
    "Python has a lot of functionality built in, however there are of course 3rd packages available. \n",
    "\n",
    "Python packages are available via the *Python Package Index*, know simply as *PyPI*.\n",
    "\n",
    "We can take a look at the PyPI now: <https://pypi.org>\n",
    "\n",
    "There are literally 10's of thousands of packages available for Python. \n",
    "\n",
    "If you wish to install a package in Python, you can install it using the `pip install` command, so for example the command:\n",
    "\n",
    "```bash\n",
    "$ pip insall numpy\n",
    "```\n",
    "\n",
    "will install the package Numpy. This command should be run from the command line.\n",
    "\n",
    "However, before you install anything, you should be aware of virtual enviroments."
   ]
  },
  {
   "cell_type": "markdown",
   "id": "4b0439d0-f948-4932-94a5-554e114f922a",
   "metadata": {},
   "source": [
    "## Virtual Environments\n",
    "\n",
    "It is highly recommended that you create virtual environments for each of your projects. \n",
    "\n",
    "A virtual environment is basically an isolated Python environment. \n",
    "\n",
    "When you run the `python` command from the command line, you are running the system-side installed Python environment. It is recommended that you do not really install many packages to the system Python. \n",
    "\n",
    "Instead you should use virtual environments for each project that you are working on. \n",
    "\n",
    "Why do this? \n",
    "\n",
    "Some projects will require many different packages, and some packages depend on certain versions of other packages. If, for example, a package requires version 1.5 of NumPy, but another project requires at most version 1.4, then you will have a dependency conflict and these can be difficult to solve. Therefore, it is much easier to manage smaller virtual environments for each project. \n",
    "\n",
    "Create a virtual environment using Python's built-in `venv` tool. You want to do this in the root directory of your current project. \n",
    "\n",
    "```bash\n",
    "$ python -m venv my-new-virtual-env\n",
    "```\n",
    "\n",
    "This creates a new virtual enviroment called `my-new-virtual-env` in the current directory, under the directory `./my-new-virtual-env`.\n",
    "\n",
    "Within this `./my-new-virtual-env` there is a new, fresh Python environment. All you need to do now is declare this virtual environment as active:\n",
    "\n",
    "```bash\n",
    "$ source ./my-new-virtual-env/bin/activate\n",
    "```\n",
    "\n",
    "or in Windows:\n",
    "\n",
    "```cmd\n",
    "myenv\\Scripts\\activate\n",
    "```\n",
    "\n",
    "and your virtual environment will now be active. Anything you do within this environment will not affect the system version of Python, nor will it affect any other virtual environment.\n",
    "\n",
    "You will know you are in a virtual enviroment, as your command line shell will change its appearance, and look something like this:\n",
    "\n",
    "```bash\n",
    "(my-new-virtual-env) $\n",
    "```\n",
    "\n",
    "where the name of the current virtual environment will appears before the prompt.\n",
    "\n",
    "We will now demo the creation of a virtual environment."
   ]
  },
  {
   "cell_type": "markdown",
   "id": "396933d0-6be2-48e1-9472-41c912807b8e",
   "metadata": {},
   "source": [
    "## Printing\n",
    "\n",
    "You will use the `print()` a lot in Python. \n",
    "\n",
    "There are several ways to print using Python, which is slightly annoying as you will see various examples of each whenever you are looking for code. \n",
    "\n",
    "The cleanest and most modern way to print is using f-strings (formatted strings), and we will use those exclusively in these seminars.\n",
    "\n",
    "You define an f-string using `f` before the string's inverted commas:\n",
    "\n",
    "```python\n",
    "f\"This is a formatted string.\"\n",
    "```\n",
    "\n",
    "You will see this most often within `print()` statements.\n",
    "\n",
    "With f-strings, you can place variables within your strings using curly brackets:"
   ]
  },
  {
   "cell_type": "code",
   "execution_count": null,
   "id": "249e9d46-35ab-4a06-acb2-7739ef043517",
   "metadata": {},
   "outputs": [],
   "source": [
    "greeting = 'ATSP 2025 Students'\n",
    "\n",
    "print(f\"Welcome, {greeting}!\")"
   ]
  },
  {
   "cell_type": "markdown",
   "id": "07a77e40-777a-4c2c-982a-ab73db0cf066",
   "metadata": {},
   "source": [
    "Code within the curly brackets are actually interpreted/executed inline:"
   ]
  },
  {
   "cell_type": "code",
   "execution_count": null,
   "id": "125f3fe8-6c12-4113-b073-86ef3436af54",
   "metadata": {},
   "outputs": [],
   "source": [
    "x = 3\n",
    "y = 6\n",
    "print(f\"x: {x}, y: {y}, sum: {x + y}\")"
   ]
  },
  {
   "cell_type": "markdown",
   "id": "1f18e495-3e53-4277-a763-cf549dd283b3",
   "metadata": {},
   "source": [
    "One thing you will do a lot is format very long floats in to something more readable. \n",
    "\n",
    "Most algorithms return probabilities that are very long, such as 0.78667479273278, which has far too much precision for human reading:"
   ]
  },
  {
   "cell_type": "code",
   "execution_count": null,
   "id": "fe5c81ba-62ad-46e6-acdf-a489acb5a5f1",
   "metadata": {},
   "outputs": [],
   "source": [
    "probability = 0.78667479273278472914\n",
    "\n",
    "print(f\"Class probability: {probability}\")"
   ]
  },
  {
   "cell_type": "markdown",
   "id": "ba110928-6666-4d44-a9bb-467c56c1c6ba",
   "metadata": {},
   "source": [
    "Using a `:` you can define how a variable is printed:"
   ]
  },
  {
   "cell_type": "code",
   "execution_count": null,
   "id": "51c31aa2-9782-4f0b-97f3-ffdb5b0cc95f",
   "metadata": {},
   "outputs": [],
   "source": [
    "print(f\"Class probability: {probability:.3f}\")"
   ]
  },
  {
   "cell_type": "markdown",
   "id": "1083371e-b90c-4ade-b5c3-20d8e9e38e8e",
   "metadata": {},
   "source": [
    "You can specify that you wish to have either 2 or 3 significant digits, and by passing `f` you tell it this is a float and therefore can be rounded."
   ]
  },
  {
   "cell_type": "markdown",
   "id": "f29bb876-0531-47c7-b776-af5df428304e",
   "metadata": {},
   "source": [
    "Large numbers can also be be printed using thousand seperators:"
   ]
  },
  {
   "cell_type": "code",
   "execution_count": null,
   "id": "4c0ac3fd-13ac-4265-9cb8-32262871e3f8",
   "metadata": {},
   "outputs": [],
   "source": [
    "large_n = 7630726492344.8934\n",
    "\n",
    "print(f\"Samples: {large_n:,.2f}\")"
   ]
  },
  {
   "cell_type": "markdown",
   "id": "69833db6-c71a-43f7-b86e-34f3af317941",
   "metadata": {},
   "source": [
    "Often you will work with percentages:"
   ]
  },
  {
   "cell_type": "code",
   "execution_count": null,
   "id": "847c57f8-49e2-40c4-8545-e8b9f93fc902",
   "metadata": {},
   "outputs": [],
   "source": [
    "percent = 0.256\n",
    "print(f\"Percentage: {percent:.2%}\")"
   ]
  },
  {
   "cell_type": "markdown",
   "id": "e5918f01-8f8d-42d4-b132-786aef972eab",
   "metadata": {},
   "source": [
    "Alignment can be done by specifying the preceding number of digits:"
   ]
  },
  {
   "cell_type": "code",
   "execution_count": null,
   "id": "d76c3557-137e-4bed-b761-0b6fddc81117",
   "metadata": {},
   "outputs": [],
   "source": [
    "class_ids = [423, 23, 9, 810, 10]\n",
    "\n",
    "for class_id in class_ids:\n",
    "    print(f\"Class ID: {class_id:3.0f}\")"
   ]
  },
  {
   "cell_type": "markdown",
   "id": "2bca4969-7640-451e-bb4a-65810c026acc",
   "metadata": {},
   "source": [
    "Just to give you an example of how strings can also be printed in Python:"
   ]
  },
  {
   "cell_type": "code",
   "execution_count": null,
   "id": "ee01a942-aef3-481f-89a6-427e3c37a8d1",
   "metadata": {},
   "outputs": [],
   "source": [
    "temp = 13\n",
    "day = 'Thursday'\n",
    "\n",
    "# Old way\n",
    "print(\"On %s it will be %s°C\" % (day, temp))\n",
    "\n",
    "# New way\n",
    "print(f\"On {day} it will be {temp}°C\")"
   ]
  },
  {
   "cell_type": "markdown",
   "id": "582d2b09-0a22-4651-ab85-edd4575c51cf",
   "metadata": {},
   "source": [
    "The old way gets very difficult if you have 10 variables you want to print. Then you have to literally count the occurances of `%s` to find the variable you want to change and also ensure that they are in the right order in the tuple at the end of the string."
   ]
  },
  {
   "cell_type": "markdown",
   "id": "dfae437c-8f8d-483f-bcfc-01a846427feb",
   "metadata": {},
   "source": [
    "### String's `.center()` function\n",
    "\n",
    "This is very useful for nicely printing results to the console, or for printing logs and so on during debugging:"
   ]
  },
  {
   "cell_type": "code",
   "execution_count": null,
   "id": "94ddc8f1-df7c-40fc-bfd0-00534cf4ee07",
   "metadata": {},
   "outputs": [],
   "source": [
    "accuracy = 0.913\n",
    "f1_score = 0.876\n",
    "\n",
    "print(f\" Summary \".center(40, '-'))\n",
    "\n",
    "print(f\"Accuracy: {accuracy}\")\n",
    "print(f\"f1 Score: {f1_score}\")\n",
    "\n",
    "print(f\" End Summary \".center(40, '-'))"
   ]
  },
  {
   "cell_type": "markdown",
   "id": "501ae44e-3077-4fc2-a877-273fe3f217b5",
   "metadata": {},
   "source": [
    "## Scientific Notation\n",
    "\n",
    "You will see scientific notation a lot when using Python for Machine Learning, especially when you are looking at the outputs of models that return probabilities and so on.\n",
    "\n",
    "To print a number in scientific notation, use `:e`, as follows:"
   ]
  },
  {
   "cell_type": "code",
   "execution_count": null,
   "id": "ba225cb9-f740-4be8-b113-207570e7c9e3",
   "metadata": {},
   "outputs": [],
   "source": [
    "num = 0.100009732\n",
    "\n",
    "print(f\"{num:e}\")"
   ]
  },
  {
   "cell_type": "markdown",
   "id": "03c25dc8-d400-490a-9352-ca522d1e4dc3",
   "metadata": {},
   "source": [
    "If you want to go from scientific notation back to a float:"
   ]
  },
  {
   "cell_type": "code",
   "execution_count": null,
   "id": "b7cf61d0-f428-4b16-b01f-335686fc4f5f",
   "metadata": {},
   "outputs": [],
   "source": [
    "num = 8.2885e-01\n",
    "\n",
    "print(f\"{num:.8f}\")"
   ]
  },
  {
   "cell_type": "markdown",
   "id": "9c959b13-7d0f-44b6-ba58-a0bbd6003253",
   "metadata": {},
   "source": [
    "## Organising Your Code\n",
    "\n",
    "In Python, a Python file is a module, meaning it can be imported in to the current namespace using `import`. \n",
    "\n",
    "For example, we have the following file, `mathtools.py` in our current directory:\n",
    "\n",
    "```python\n",
    "# mathtools.py\n",
    "\n",
    "def square(n):\n",
    "    return n*n\n",
    "```\n",
    "\n",
    "You import this in to a Python session using `import`:"
   ]
  },
  {
   "cell_type": "code",
   "execution_count": null,
   "id": "357d6b5b-5cde-455f-8017-166924195701",
   "metadata": {},
   "outputs": [],
   "source": [
    "import mathtools"
   ]
  },
  {
   "cell_type": "code",
   "execution_count": null,
   "id": "58ba3262-aff1-41d2-aea4-8f82f15c40d7",
   "metadata": {},
   "outputs": [],
   "source": [
    "mathtools.square(2)"
   ]
  },
  {
   "cell_type": "code",
   "execution_count": null,
   "id": "e970976d-93a9-4b8f-90e0-7b41fb6df548",
   "metadata": {},
   "outputs": [],
   "source": [
    "from mathtools import square"
   ]
  },
  {
   "cell_type": "code",
   "execution_count": null,
   "id": "03d41251-8cf8-45ab-8d63-f4b547ce2b77",
   "metadata": {},
   "outputs": [],
   "source": [
    "square(5)"
   ]
  },
  {
   "cell_type": "markdown",
   "id": "74961573-e723-4362-9c0c-ae8bda82902b",
   "metadata": {},
   "source": [
    "This can be very useful if you have a bunch of frequently used functions you have collected over the years and just wish to use them within a notebook. "
   ]
  },
  {
   "cell_type": "markdown",
   "id": "df30eeb7-711e-4ea6-b7df-451cea424d49",
   "metadata": {},
   "source": [
    "## Summary\n",
    "\n",
    "We have seen:\n",
    "\n",
    "- Variables\n",
    "- Functions\n",
    "- Lists, Sets, Dictionaries, Tuples\n",
    "- The `for` loop\n",
    "- `if`/`else` statements\n",
    "- Virtual environments\n",
    "- How to use `print()`\n",
    "- How to organise code in to modules\n",
    "- How to install Python packages\n",
    "\n",
    "Any questions so far?\n",
    "\n",
    "**The most important things to know are data structures such as lists, how to define basic functions, how to loop over lists and dictionaries, how to control flow using `if` and `else`**"
   ]
  },
  {
   "cell_type": "markdown",
   "id": "a64cb485-ae3c-4402-9ce9-c0b847cfd38f",
   "metadata": {},
   "source": [
    "---"
   ]
  },
  {
   "cell_type": "markdown",
   "id": "a5240d65-616c-4115-983e-01e876000c7e",
   "metadata": {},
   "source": [
    "# Numpy\n",
    "\n",
    "What is Numpy? You can think of it like an extension for Python which adds support for large matrix and array manipulation. It also provides a large amount of functions to work with these arrays, which we will see shortly. If you know MATLAB, then Numpy will seem very familiar to you. As opposed to Pandas, which deals with Excel style data, tabular data and so on, Numpy deals with numerical data only.\n",
    "\n",
    "Numpy is by far the most used package in Python in the field of Machine Learning and Data Science. Knowing how it works is essential for any work in this domain. \n",
    "\n",
    "Therefore we will dedicate an entire session to Numpy so that you are familiar with it, as it will be used a lot. \n",
    "\n",
    "Pandas is also often used, and we will also cover Pandas later today.\n",
    "\n",
    "## Arrays and Matrices\n",
    "\n",
    "So what are arrays and matrices?\n",
    "\n",
    "An array is just a list of numbers. You might also know it has a vector. \n",
    "\n",
    "For example:\n",
    "\n",
    "```python\n",
    "a = [1, 2, 3, 5, ..., n]\n",
    "```\n",
    "\n",
    "A Numpy array is at first glance very similar to a standard Python list, however it has far more functionality and built in features.\n",
    "\n",
    "Numpy arrays, can be 1-dimensional, like a Python list, or they can be 2D, 3D, or even $n$-dimensional.\n",
    "\n",
    "A standard Numpy array is 1-dimensional, and is more or less equivalent to a standard Python list, at least at first glance. However they contain much more functionality than a standard Python list.\n",
    "\n",
    "A 2D Numpy array is like like a table (you can think of it as a list of 1D arrays), and is synonymous with a matrix in mathematics.\n",
    "\n",
    "A 3D array has a 3rd depth dimension. You can kind of think of it as a list of 2D arrays, and can be compared to a tensor in mathematics.\n",
    "\n",
    "![numpy](./img/numpy-matrices-crop.png)\n",
    "\n",
    "*Source*: <https://jovian.com/anujadp4/python-numerical-computing-with-numpy>\n",
    "\n",
    "Numpy is n-dimensional, so you can define even further dimensions, for example a 4D array is a list of 3D arrays, and so on. In fact you can define up to 32 dimensions, however, in practical applications, it's rare to use arrays with more than 3 or 4 dimensions.\n",
    "\n",
    "A lot of data in your machine learning tasks are going to be either supplied to you as Numpy data, or you will manipulate this data using Numpy, or the software or algorithms will require input as Numpy data. Therefore, it is an essential skill.\n",
    "\n",
    "Not only this, but Numpy is extremely fast an efficient compared to the built-in Python lists.\n",
    "\n",
    "Let's start with importing Numpy:"
   ]
  },
  {
   "cell_type": "code",
   "execution_count": null,
   "id": "9cf7533b-1666-4cf7-9805-e047e9d528d4",
   "metadata": {},
   "outputs": [],
   "source": [
    "# It is convention to import Numpy as np\n",
    "import numpy as np"
   ]
  },
  {
   "cell_type": "markdown",
   "id": "6d9893db-1b86-4563-af02-bc4e431e1c71",
   "metadata": {},
   "source": [
    "Let's create a 1D array:"
   ]
  },
  {
   "cell_type": "code",
   "execution_count": null,
   "id": "b7122f26-30f0-458a-8af9-c6e48888c5e0",
   "metadata": {},
   "outputs": [],
   "source": [
    "a = np.array([1,2,3,4,5,6,8,9,10])"
   ]
  },
  {
   "cell_type": "code",
   "execution_count": null,
   "id": "73485b37-6944-4a17-ac86-689e8a5ca1b0",
   "metadata": {},
   "outputs": [],
   "source": [
    "a"
   ]
  },
  {
   "cell_type": "markdown",
   "id": "2a27ae3a-f713-4091-81f4-180760af7e90",
   "metadata": {},
   "source": [
    "Let's look at its type:"
   ]
  },
  {
   "cell_type": "code",
   "execution_count": null,
   "id": "e0ffe3cd-febe-4442-bb31-d2b050736cb5",
   "metadata": {},
   "outputs": [],
   "source": [
    "type(a)"
   ]
  },
  {
   "cell_type": "markdown",
   "id": "d059e159-5d75-4592-8016-d267432d2013",
   "metadata": {},
   "source": [
    "You can see it is a Numpy *n*-dimensional array (`ndarray`). In our case, 1D array.\n",
    "\n",
    "You can verify this using the `ndim` property:"
   ]
  },
  {
   "cell_type": "code",
   "execution_count": null,
   "id": "fc869148-e385-4194-8787-541d23dfe50d",
   "metadata": {},
   "outputs": [],
   "source": [
    "a.ndim"
   ]
  },
  {
   "cell_type": "markdown",
   "id": "d2454189-27fa-4d71-a201-f931d205d5a3",
   "metadata": {},
   "source": [
    "Arrays can be indexed using a zero-based index, which you can do with normal Python lists, however indexing is much more capable which we will see later.\n",
    "\n",
    "Simple index:"
   ]
  },
  {
   "cell_type": "code",
   "execution_count": null,
   "id": "17db2cb7-05fd-4300-bb79-f981bbeb526a",
   "metadata": {},
   "outputs": [],
   "source": [
    "a[0]"
   ]
  },
  {
   "cell_type": "markdown",
   "id": "a164c538-a7ba-4074-b6cb-d9ded0b1ec3a",
   "metadata": {},
   "source": [
    "The last element can be accessed using `-1`:"
   ]
  },
  {
   "cell_type": "code",
   "execution_count": null,
   "id": "bd154cf6-0c6e-44dd-8a33-692545d8dbdb",
   "metadata": {},
   "outputs": [],
   "source": [
    "a[-1]"
   ]
  },
  {
   "cell_type": "markdown",
   "id": "57372af2-b58e-4c13-8a8e-7895caf78e60",
   "metadata": {},
   "source": [
    "Or the 3rd from last element:"
   ]
  },
  {
   "cell_type": "code",
   "execution_count": null,
   "id": "fe92d761-c4f4-4d20-9706-2360d4861a0f",
   "metadata": {},
   "outputs": [],
   "source": [
    "a[-3]"
   ]
  },
  {
   "cell_type": "markdown",
   "id": "5ebc550c-59d4-4cc0-9222-8d5fc03bfe7c",
   "metadata": {},
   "source": [
    "So far we have seen nothing that you cannot do with normal lists.\n",
    "\n",
    "However, if you inspect the list of available functions, you will soon see that Numpy arrrays are much more powerful than standard Python lists. \n",
    "\n",
    "We can see a list of functions available using intellisense:"
   ]
  },
  {
   "cell_type": "code",
   "execution_count": null,
   "id": "a974c137-d709-475d-a4c1-753fb1a43c42",
   "metadata": {},
   "outputs": [],
   "source": [
    "a.any?"
   ]
  },
  {
   "cell_type": "markdown",
   "id": "fc4dec66-4f09-4346-88c0-d39eeab22d63",
   "metadata": {},
   "source": [
    "Or indeed, we can view the documentation as we have done previously. Documentation is not just for Python built in functions, but also for libraries that you have imported."
   ]
  },
  {
   "cell_type": "code",
   "execution_count": null,
   "id": "b9c063db-2110-44a1-b58c-eaf65768981c",
   "metadata": {},
   "outputs": [],
   "source": [
    "np.array?"
   ]
  },
  {
   "cell_type": "markdown",
   "id": "851f9f5d-9548-40f3-bf14-1cab439cb617",
   "metadata": {},
   "source": [
    "## Array Broadcasting\n",
    "\n",
    "Array broadcasting allows you to perform operations over arrays without needing to loop over them.\n",
    "\n",
    "A simple example illustrates this. We declate a few standard Python lists as follows:"
   ]
  },
  {
   "cell_type": "code",
   "execution_count": null,
   "id": "e0d8da43-d907-4131-ac1c-e5c51889b666",
   "metadata": {},
   "outputs": [],
   "source": [
    "a = [[1, 2, 3],\n",
    "     [4, 5, 6],\n",
    "     [7, 8, 9]]"
   ]
  },
  {
   "cell_type": "code",
   "execution_count": null,
   "id": "3c0bb413-cb9e-4283-955d-60e9850e3f44",
   "metadata": {},
   "outputs": [],
   "source": [
    "a"
   ]
  },
  {
   "cell_type": "code",
   "execution_count": null,
   "id": "f5c1a3bc-9f41-4131-b2fc-d3728b81af53",
   "metadata": {},
   "outputs": [],
   "source": [
    "b = [10, 20, 30]"
   ]
  },
  {
   "cell_type": "markdown",
   "id": "b758b6f4-515c-425c-b676-c8ac5ce7a46c",
   "metadata": {},
   "source": [
    "Now let's say I want to add `b` to each row of `a`. \n",
    "\n",
    "Let's try to use addition:"
   ]
  },
  {
   "cell_type": "code",
   "execution_count": null,
   "id": "0ee22b3f-c23c-4600-b07e-a2612408570a",
   "metadata": {},
   "outputs": [],
   "source": [
    "a + b"
   ]
  },
  {
   "cell_type": "markdown",
   "id": "48c49236-b80f-46a5-9ede-5e99653e9da9",
   "metadata": {},
   "source": [
    "That is not what we wanted at all, Python has concatenated the two lists, and we have ended up with a list of 6 elements, where the first 3 elements are lists and the last 3 are the indivdual items from `b`."
   ]
  },
  {
   "cell_type": "markdown",
   "id": "a5f380b5-f485-4e53-ab06-91ab470b35a1",
   "metadata": {},
   "source": [
    "So how would we do what we wanted?\n",
    "\n",
    "We could simply use a `for` loop:"
   ]
  },
  {
   "cell_type": "code",
   "execution_count": null,
   "id": "11e42948-7691-4d51-9599-1cd12f62ed20",
   "metadata": {},
   "outputs": [],
   "source": [
    "new_matrix = []\n",
    "\n",
    "for row in a:\n",
    "    new_row = []\n",
    "    for element, addition in zip(row, b):\n",
    "        new_row.append(element + addition)\n",
    "    new_matrix.append(new_row)"
   ]
  },
  {
   "cell_type": "code",
   "execution_count": null,
   "id": "a1fbff39-172c-4b26-bb48-6bb19b5d2eb1",
   "metadata": {},
   "outputs": [],
   "source": [
    "new_matrix"
   ]
  },
  {
   "cell_type": "markdown",
   "id": "054bd21f-6de5-47fb-b3f6-5f7b2828ed93",
   "metadata": {},
   "source": [
    "However, we had to write an entire loop, which is error prone and takes a lot of time, etc. \n",
    "\n",
    "In Numpy this is much easier. Let's first create Numpy arrays instead of lists:"
   ]
  },
  {
   "cell_type": "code",
   "execution_count": null,
   "id": "79a4d915-d459-400f-91f8-5cb4f13f9afe",
   "metadata": {},
   "outputs": [],
   "source": [
    "a = np.array(a)\n",
    "b = np.array(b)\n",
    "\n",
    "print(a)\n",
    "print()\n",
    "print(b)"
   ]
  },
  {
   "cell_type": "markdown",
   "id": "801a0b39-4d8e-4fdf-a8c9-2b6c6026a2c6",
   "metadata": {},
   "source": [
    "And then add them:"
   ]
  },
  {
   "cell_type": "code",
   "execution_count": null,
   "id": "4f971504-d131-41d4-a17d-34dc7771d97d",
   "metadata": {},
   "outputs": [],
   "source": [
    "a + b"
   ]
  },
  {
   "cell_type": "markdown",
   "id": "8c3d9891-50be-4169-99e7-f03c960f0952",
   "metadata": {},
   "source": [
    "Let's now say we had some values in a list, and you wanted to multiply each value with a set of weights. \n",
    "\n",
    "Let's declare these are Python lists:"
   ]
  },
  {
   "cell_type": "code",
   "execution_count": null,
   "id": "5c0c389d-0fdd-4f94-a7c8-338bd640e751",
   "metadata": {},
   "outputs": [],
   "source": [
    "a = [10, 20, 30]"
   ]
  },
  {
   "cell_type": "code",
   "execution_count": null,
   "id": "5098414d-2437-446f-ad0d-d02402b2822f",
   "metadata": {},
   "outputs": [],
   "source": [
    "weights = [1.1, 2.2, 3.3]"
   ]
  },
  {
   "cell_type": "code",
   "execution_count": null,
   "id": "a833794a-6394-45b3-90ac-cb9a3f6f2c2f",
   "metadata": {},
   "outputs": [],
   "source": [
    "a * weights"
   ]
  },
  {
   "cell_type": "markdown",
   "id": "aed633a4-c470-4501-91d5-25084846bd2f",
   "metadata": {},
   "source": [
    "In Python we get an error.\n",
    "\n",
    "Again, we will have to write a loop:"
   ]
  },
  {
   "cell_type": "code",
   "execution_count": null,
   "id": "6c8f8e01-7bb6-4e41-8260-4f0b99113399",
   "metadata": {},
   "outputs": [],
   "source": [
    "weight_sums = []\n",
    "\n",
    "for i in range(3):\n",
    "    t = a[i] * weights[i]\n",
    "    weight_sums.append(t)    "
   ]
  },
  {
   "cell_type": "markdown",
   "id": "f1c62939-9d15-47f5-82ef-2fdb575cb378",
   "metadata": {},
   "source": [
    "Which produces:"
   ]
  },
  {
   "cell_type": "code",
   "execution_count": null,
   "id": "896eb0c8-7898-4129-a99b-71b947c42b9a",
   "metadata": {},
   "outputs": [],
   "source": [
    "weight_sums"
   ]
  },
  {
   "cell_type": "markdown",
   "id": "19c67499-a561-4d50-a926-ae801c32e8a2",
   "metadata": {},
   "source": [
    "This is what we wanted, but again it required writing this loop, etc.\n",
    "\n",
    "To do this in Numpy, we can convert the lists to Numpy arrays, and then use the `*` operator on the Numpy arrays:"
   ]
  },
  {
   "cell_type": "code",
   "execution_count": null,
   "id": "f97ef48e-168e-4260-98af-3d47230f721a",
   "metadata": {},
   "outputs": [],
   "source": [
    "a = np.array([10, 20, 30])\n",
    "weights = np.array([1.1, 2.2, 3.3])\n",
    "\n",
    "a * weights "
   ]
  },
  {
   "cell_type": "markdown",
   "id": "197cc754-1c13-4a13-8b03-182b3f932d47",
   "metadata": {},
   "source": [
    "It is also worth mentioning that if you use array broadcasting, it can be more than 100x faster than using for loops in Python. The underlying Numpy code is parallel, written in C, and is very optimised.\n",
    "\n",
    "If you are writing any code that uses loops in Python, and find that it is taking a very long time, see if you can somehow perform the same thing using Numpy's matrix operations.... "
   ]
  },
  {
   "cell_type": "markdown",
   "id": "cc798f32-ca53-49e1-a769-72e5b850616d",
   "metadata": {},
   "source": [
    "### Matrix Multiplications\n",
    "\n",
    "We will not use matrix multiplications directly in this seminar, however we will briefly mention it is something you will come across eventually in Machine Learning.\n",
    "\n",
    "Matric multiplicatons are of the form:\n",
    "\n",
    "![Matrix](./img/matmul.png)\n",
    "\n",
    "*Image source*: James, Witten, Hastie, Tibshirani. **An Introduction to Statistical Learning**.\n",
    "\n",
    "In the case of a matrix multiplication, you need to use the `matmul()` function. \n",
    "\n",
    "Let's declare two arrays and take a look at them:"
   ]
  },
  {
   "cell_type": "code",
   "execution_count": null,
   "id": "6b49502a-29a1-43f8-b366-ccb29fae55b7",
   "metadata": {},
   "outputs": [],
   "source": [
    "A = np.array([[1,2], [3,4]])\n",
    "B = np.array([[5,6], [7,8]])\n",
    "\n",
    "print(\"A =\\n\", A)\n",
    "print(\"B =\\n\", B)"
   ]
  },
  {
   "cell_type": "markdown",
   "id": "44e5f2b5-c0c1-4291-966c-5cadc15aea40",
   "metadata": {},
   "source": [
    "Using `matmul()` we can perform this operation quickly:"
   ]
  },
  {
   "cell_type": "code",
   "execution_count": null,
   "id": "2951884d-10cf-404e-b487-9f5711263d2c",
   "metadata": {},
   "outputs": [],
   "source": [
    "np.matmul(A, B)"
   ]
  },
  {
   "cell_type": "markdown",
   "id": "23f95c12-5d56-4ddd-a6f9-e5a86f82a6d8",
   "metadata": {},
   "source": [
    "You can also use the `@` symbol for this."
   ]
  },
  {
   "cell_type": "code",
   "execution_count": null,
   "id": "d493b67f-1a12-49fd-92e5-44d49f08c066",
   "metadata": {},
   "outputs": [],
   "source": [
    "A @ B"
   ]
  },
  {
   "cell_type": "markdown",
   "id": "f428e606-c9f7-4539-af7a-88d61df4764f",
   "metadata": {},
   "source": [
    "### Array comparison\n",
    "\n",
    "You can also compare arrays quickly, which can come in very handy for when you are comparing the output of a trained model with the groun truth labels, for example."
   ]
  },
  {
   "cell_type": "code",
   "execution_count": null,
   "id": "239e7d95-8c94-447c-a618-7d4de27c909b",
   "metadata": {},
   "outputs": [],
   "source": [
    "a = np.array([[1, 2, 3], [3, 4, 5]])\n",
    "b = np.array([[2, 2, 3], [1, 2, 5]])"
   ]
  },
  {
   "cell_type": "code",
   "execution_count": null,
   "id": "2a59ed9e-b37a-4372-b65a-fba41cda4caa",
   "metadata": {},
   "outputs": [],
   "source": [
    "a"
   ]
  },
  {
   "cell_type": "code",
   "execution_count": null,
   "id": "b43b9d91-cf7c-4f8a-a078-9972aefd7cd6",
   "metadata": {},
   "outputs": [],
   "source": [
    "b"
   ]
  },
  {
   "cell_type": "code",
   "execution_count": null,
   "id": "ae6eeec1-1e4f-489e-86c5-7baf19d2297d",
   "metadata": {},
   "outputs": [],
   "source": [
    "a == b"
   ]
  },
  {
   "cell_type": "markdown",
   "id": "1ec1068d-5f21-4e4e-ac44-97ea7cd4f3b2",
   "metadata": {},
   "source": [
    "And the same is true for `>`, `<`, and `!=`, for example:"
   ]
  },
  {
   "cell_type": "code",
   "execution_count": null,
   "id": "02e8d1f6-6c6b-4d82-84e5-114f75cbcf4f",
   "metadata": {},
   "outputs": [],
   "source": [
    "a > b"
   ]
  },
  {
   "cell_type": "markdown",
   "id": "109c3073-7ce7-467f-83e0-ed3a6264d07b",
   "metadata": {},
   "source": [
    "## Array Slicing\n",
    "\n",
    "One of NumPy's biggest strengths is the ability to slice arrays in to subsets very easily.\n",
    "\n",
    "Remember that indices **include the first element of the index**, and **exlude the last element**. \n",
    "\n",
    "Let's start with some simple slicing of a 1D array:"
   ]
  },
  {
   "cell_type": "code",
   "execution_count": null,
   "id": "4607736a-f60b-4564-ab6a-ad1694705381",
   "metadata": {},
   "outputs": [],
   "source": [
    "a = np.arange(1, 11)\n",
    "a"
   ]
  },
  {
   "cell_type": "code",
   "execution_count": null,
   "id": "c46c2d7b-fbac-448d-bb18-99d98260009d",
   "metadata": {},
   "outputs": [],
   "source": [
    "a[0]"
   ]
  },
  {
   "cell_type": "code",
   "execution_count": null,
   "id": "9483a21c-a0b2-4c7e-82cf-a05c969dc6dd",
   "metadata": {},
   "outputs": [],
   "source": [
    "a[-1]"
   ]
  },
  {
   "cell_type": "markdown",
   "id": "8fa1b2cf-52cc-4ca3-a8ee-2c0ee7ab853d",
   "metadata": {},
   "source": [
    "We have seen this already, but you can also provide a range of items you wish to retrieve:"
   ]
  },
  {
   "cell_type": "code",
   "execution_count": null,
   "id": "7a317e90-fdd1-4bf7-ba62-3d3ec2407b63",
   "metadata": {},
   "outputs": [],
   "source": [
    "a[0:3]"
   ]
  },
  {
   "cell_type": "markdown",
   "id": "48714cd7-7f19-418a-8595-3db787321962",
   "metadata": {},
   "source": [
    "As is Python convention, `0:3` **includes** element 0 and **excludes** element 3."
   ]
  },
  {
   "cell_type": "markdown",
   "id": "118b0c66-7666-4b00-9504-11f0cd480a77",
   "metadata": {},
   "source": [
    "You can omit the digit before or after the `:` to mean 'from the start' or 'to the end'."
   ]
  },
  {
   "cell_type": "code",
   "execution_count": null,
   "id": "da09b9ba-2163-4d42-ad77-55c6013969f6",
   "metadata": {},
   "outputs": [],
   "source": [
    "a[:5]"
   ]
  },
  {
   "cell_type": "markdown",
   "id": "81c4be2e-d51d-4566-a739-bf96f6c9e1f2",
   "metadata": {},
   "source": [
    "Ranges can also use negative numbers, which we say earlier for selecting the last element. \n",
    "\n",
    "Here we go from the last element to the 3rd last element:"
   ]
  },
  {
   "cell_type": "code",
   "execution_count": null,
   "id": "8e066584-bf6d-43ba-8744-b4c6d1945efb",
   "metadata": {},
   "outputs": [],
   "source": [
    "a[-5:-1]"
   ]
  },
  {
   "cell_type": "markdown",
   "id": "7863f6e5-6953-49c0-a882-23c9ca51e35d",
   "metadata": {},
   "source": [
    "You can also select items in steps. You place the step size after the range, in the form `start:stop:step`. \n",
    "\n",
    "Let's make a larger array for this, and select only every 10th element:"
   ]
  },
  {
   "cell_type": "code",
   "execution_count": null,
   "id": "cf25f898-76e1-4c05-ae4c-b18540c62c13",
   "metadata": {},
   "outputs": [],
   "source": [
    "a = np.arange(100)"
   ]
  },
  {
   "cell_type": "code",
   "execution_count": null,
   "id": "f7c2be84-3268-4b57-99b8-c04e2c51ee2f",
   "metadata": {},
   "outputs": [],
   "source": [
    "a"
   ]
  },
  {
   "cell_type": "code",
   "execution_count": null,
   "id": "f7455cbf-394b-48ae-873b-75932a7176e4",
   "metadata": {},
   "outputs": [],
   "source": [
    "a[0:100:10]"
   ]
  },
  {
   "cell_type": "markdown",
   "id": "6b09f31e-c51c-4a95-ab20-6828164218cb",
   "metadata": {},
   "source": [
    "Or, using no values for start and end, we can select every 2nd element:"
   ]
  },
  {
   "cell_type": "code",
   "execution_count": null,
   "id": "60597949-e0e5-42b4-980e-adc010a5f445",
   "metadata": {},
   "outputs": [],
   "source": [
    "a[::2]"
   ]
  },
  {
   "cell_type": "markdown",
   "id": "62edef15-2d14-4e37-8a4c-7bc08f0430dd",
   "metadata": {},
   "source": [
    "### 2D Array Slicing\n",
    "\n",
    "So far so good with 1D arrays. However, we can do advanced slicing on 2D arrays.\n",
    "\n",
    "Here are a few exmaples we will cover now:\n",
    "\n",
    "![Slicing](./img/array-slicing.jpg)\n",
    "\n",
    "Let's first replicate the dataset from the image above:"
   ]
  },
  {
   "cell_type": "code",
   "execution_count": null,
   "id": "9a48ea4c-0449-447d-b93c-21f184cf27f9",
   "metadata": {},
   "outputs": [],
   "source": [
    "a = np.arange(36).reshape(6,6)\n",
    "a"
   ]
  },
  {
   "cell_type": "markdown",
   "id": "f7ac2adb-6287-46a1-8505-b4409480ff78",
   "metadata": {},
   "source": [
    "We use the function `reshape()` to create a 2D matrix out of the 1D array that `arange()` returns.\n",
    "\n",
    "So, with 2D arrays you specify each slice for each dimension using `,`.\n",
    "\n",
    "The first dimension specifies the rows you want to select, the second dimension specifies the columns you want to select.\n",
    "\n",
    "So, we can select the first row like this:"
   ]
  },
  {
   "cell_type": "code",
   "execution_count": null,
   "id": "e4ba7f57-a20c-4ba5-8645-cd8e6647d8e7",
   "metadata": {},
   "outputs": [],
   "source": [
    "a[0,:]"
   ]
  },
  {
   "cell_type": "markdown",
   "id": "de53512a-cbca-4a29-8e2c-1f740bb4500b",
   "metadata": {},
   "source": [
    "Note that we used `:` to specify the entire range, as we have seen before. \n",
    "\n",
    "So we said, we wanted row 0, all columns.\n",
    "\n",
    "If we wanted only the first **column**, then we can use the following:"
   ]
  },
  {
   "cell_type": "code",
   "execution_count": null,
   "id": "fa8a02f0-2a9f-47b5-b75a-2b3ec053f892",
   "metadata": {},
   "outputs": [],
   "source": [
    "a[:, 0]"
   ]
  },
  {
   "cell_type": "markdown",
   "id": "bd220ef2-bb53-4f04-81f5-fa58fbe3bd75",
   "metadata": {},
   "source": [
    "In this case, we use `:` to say all rows, and `0` to say the first column.\n",
    "\n",
    "We can also use negative indexing.  \n",
    "\n",
    "For example we want only the **last two rows**, and only the **first column**:"
   ]
  },
  {
   "cell_type": "code",
   "execution_count": null,
   "id": "068054bb-0595-4632-aa84-598968e00b60",
   "metadata": {},
   "outputs": [],
   "source": [
    "a[-2:, 0]"
   ]
  },
  {
   "cell_type": "markdown",
   "id": "4bb3943e-fc0c-4455-9551-076dd9b343f4",
   "metadata": {},
   "source": [
    "Take a look at the image above to confirm what we have selected.\n",
    "\n",
    "Ranges can be used for both axes/dimensions. So let's say we wanted only the centre rows and columns, we can use ranges for both axes:"
   ]
  },
  {
   "cell_type": "code",
   "execution_count": null,
   "id": "77883bf9-c5a6-47bb-a4c6-015ba8679589",
   "metadata": {},
   "outputs": [],
   "source": [
    "a[2:4, 1:5]"
   ]
  },
  {
   "cell_type": "markdown",
   "id": "6fc63d8a-a440-40f8-bd2a-b90fae0c5eb0",
   "metadata": {},
   "source": [
    "### 3D Slicing\n",
    "\n",
    "3D slicing is also very common. For example, stacks of images, which are fed in to neural networks, are passed as 3D arrays. Therefore, it is common to index them directly in the stacks in which they are stored using Numpy.\n",
    "\n",
    "![numpy](./img/numpy-matrices-crop.png)\n",
    "\n",
    "Axis 0 are the rows, axis 1 are the columns, and axis 2 is the depth. \n",
    "\n",
    "However, when indexing 3D arrays, the **order of the axes** must be given as axis 2, axis 0, and axis 1.\n",
    "\n",
    "You can also think of it like this:\n",
    "\n",
    "```python\n",
    "array[depth_slice, row_slice, column_slice]\n",
    "```\n",
    "\n",
    "This will become much more clear as we step through some examples.\n",
    "\n",
    "Note, that this is done in Numpy for memory efficiency reasons. It is faster to index this way as you keep data in more continuous blocks in the computer's memory.\n",
    "\n",
    "First let's make a data structure:"
   ]
  },
  {
   "cell_type": "code",
   "execution_count": null,
   "id": "8868547c-624e-4259-9537-634b25475b1e",
   "metadata": {},
   "outputs": [],
   "source": [
    "a = np.array([\n",
    "    np.arange(36).reshape(6, 6),\n",
    "    np.arange(36, 36+36).reshape(6, 6),\n",
    "    np.arange(72, 72+36).reshape(6, 6),\n",
    "])\n",
    "a"
   ]
  },
  {
   "cell_type": "markdown",
   "id": "5eee04d0-fbda-40db-8dc0-2265830ccdb5",
   "metadata": {},
   "source": [
    "We can see that the indexing order is different if you look at the `a`'s shape:"
   ]
  },
  {
   "cell_type": "code",
   "execution_count": null,
   "id": "c51f5915-d767-4ab7-8e56-83c2bd38657c",
   "metadata": {},
   "outputs": [],
   "source": [
    "np.shape(a)"
   ]
  },
  {
   "cell_type": "markdown",
   "id": "ec8ce9ce-dfe4-404b-9719-9b44c8b50a54",
   "metadata": {},
   "source": [
    "Say we want the deepest of the arrays, you would use the first index :"
   ]
  },
  {
   "cell_type": "code",
   "execution_count": null,
   "id": "9afd7352-5fd5-460a-84a7-a10542a7726f",
   "metadata": {},
   "outputs": [],
   "source": [
    "a[-1, :, :]"
   ]
  },
  {
   "cell_type": "markdown",
   "id": "fdb03876-3a25-49ef-8871-d1d104404857",
   "metadata": {},
   "source": [
    "Likewise, we can say we want all the first rows:"
   ]
  },
  {
   "cell_type": "code",
   "execution_count": null,
   "id": "bcfb141c-fb18-40a6-aa32-1b8d593ea5f0",
   "metadata": {},
   "outputs": [],
   "source": [
    "a[:,0,:]"
   ]
  },
  {
   "cell_type": "markdown",
   "id": "d37a4b5a-813e-4acb-828f-a15e805b0c71",
   "metadata": {},
   "source": [
    "Or all the first columns:"
   ]
  },
  {
   "cell_type": "code",
   "execution_count": null,
   "id": "313b061e-86e6-496e-a0a5-3480159b4c0c",
   "metadata": {},
   "outputs": [],
   "source": [
    "a[:, :, 0]"
   ]
  },
  {
   "cell_type": "markdown",
   "id": "d0306510-5310-4a2f-beec-f5c4ecd0d264",
   "metadata": {},
   "source": [
    "As mentioned before, we will not be using 3D arrays in this seminar, however, if you work with neural networks with image data, you will come across 3D arrays frequently. "
   ]
  },
  {
   "cell_type": "markdown",
   "id": "208b598f-b250-407d-9880-e0cd4fcac632",
   "metadata": {},
   "source": [
    "## Searching Numpy Arrays\n",
    "\n",
    "You will often want to search for particular rows based on condition in Numpy, and this can be done using conditional operators within `[]` in much the same way as we have used index slicing.\n",
    "\n",
    "For example, consider the following 2D array:"
   ]
  },
  {
   "cell_type": "code",
   "execution_count": null,
   "id": "29c0e218-0f5d-4604-a085-6950f7a31288",
   "metadata": {},
   "outputs": [],
   "source": [
    "a = np.array([[1, 2, 3], [4, 5, 6], [7, 8, 9]])\n",
    "a"
   ]
  },
  {
   "cell_type": "markdown",
   "id": "4fd112ed-25c6-4d5a-af44-bddcf78bedac",
   "metadata": {},
   "source": [
    "If you wished to only retrieve the values greater than 5 use the following syntax within the `[]`:"
   ]
  },
  {
   "cell_type": "code",
   "execution_count": null,
   "id": "4552eda4-820e-4e8a-9adc-32a2cdb1a136",
   "metadata": {},
   "outputs": [],
   "source": [
    "a[a > 5]"
   ]
  },
  {
   "cell_type": "markdown",
   "id": "c03efd32-0fa6-4146-9bb5-8999bb1a3cb1",
   "metadata": {},
   "source": [
    "Note that it returns an array of **values**, and loses its shape. The array `a` was a 2D array, and we got back a 1D array of values. This is often what you want, but not always.\n",
    "\n",
    "If you prefer that the indices are returned instead of the values, use the `where` function, which will maintain the shape of the array:"
   ]
  },
  {
   "cell_type": "code",
   "execution_count": null,
   "id": "dae5ffe6-35ac-44f8-a4ab-38e76e5d9ca8",
   "metadata": {},
   "outputs": [],
   "source": [
    "np.where(a>2)"
   ]
  },
  {
   "cell_type": "markdown",
   "id": "ff3ef6e8-2f94-4fa3-acc3-88e44babc7c9",
   "metadata": {},
   "source": [
    "In this case we are returned the indices as a 2D array, one for each dimention. \n",
    "\n",
    "So for example, at index 0,2 the element is greater than 2.\n",
    "\n",
    "We can see this visually or check this:"
   ]
  },
  {
   "cell_type": "code",
   "execution_count": null,
   "id": "8a54598e-2983-4418-a784-b87e4b1884be",
   "metadata": {},
   "outputs": [],
   "source": [
    "a[0,2]"
   ]
  },
  {
   "cell_type": "markdown",
   "id": "4692910c-8b4d-4130-80eb-37dd05b41573",
   "metadata": {},
   "source": [
    "Numpy allows you to perform sophisticated searching, however this is beyond the scope of the seminar. It suffices to know that conditional operators can be used in much the same way slcing is performed."
   ]
  },
  {
   "cell_type": "markdown",
   "id": "f4793316-680b-4f5a-903b-5f063e07adc8",
   "metadata": {},
   "source": [
    "## Aggregate Functions and Basic Statistics\n",
    "\n",
    "Let's define a 2D array:"
   ]
  },
  {
   "cell_type": "code",
   "execution_count": null,
   "id": "17f97194-dddb-4673-8b6a-ef7a5ce834e7",
   "metadata": {},
   "outputs": [],
   "source": [
    "arr = np.array([[1, 2, 3], [4, 5, 6]])\n",
    "arr"
   ]
  },
  {
   "cell_type": "markdown",
   "id": "2cf06d5d-c418-4700-be4f-81e1a0577df7",
   "metadata": {},
   "source": [
    "We can sum all the elements using `sum()`:"
   ]
  },
  {
   "cell_type": "code",
   "execution_count": null,
   "id": "4f29a50f-50fb-455c-8616-d0dfd537cf6d",
   "metadata": {},
   "outputs": [],
   "source": [
    "np.sum(arr)"
   ]
  },
  {
   "cell_type": "markdown",
   "id": "0333e865-a13c-48e7-9f88-4cf077992ebb",
   "metadata": {},
   "source": [
    "We can sum each row by specifying the axis as `0`:"
   ]
  },
  {
   "cell_type": "code",
   "execution_count": null,
   "id": "cd7f0edc-1a83-4122-b580-26a81dc22ecd",
   "metadata": {},
   "outputs": [],
   "source": [
    "np.sum(arr, axis=0)"
   ]
  },
  {
   "cell_type": "markdown",
   "id": "a097fb6c-385a-49a8-854b-e3da97b66dc4",
   "metadata": {},
   "source": [
    "This might seem counter-intuitive, but you are telling Numpy to sum **in the direction of the axis 0**, which is row by row, top to bottom.\n",
    "\n",
    "To sum column wise:"
   ]
  },
  {
   "cell_type": "code",
   "execution_count": null,
   "id": "e748e4e4-47f9-43bc-b1f7-1f148eae74b0",
   "metadata": {},
   "outputs": [],
   "source": [
    "np.sum(arr, axis=1)"
   ]
  },
  {
   "cell_type": "markdown",
   "id": "4aa399b8-a6f9-4e16-ad73-0cf66f6f8568",
   "metadata": {},
   "source": [
    "Again, when we specify the axis as being 1, we are saying to sum in the **direction of axis 1**, which is summing left to right, column by column. \n",
    "\n",
    "We can calculate the mean as follows:"
   ]
  },
  {
   "cell_type": "code",
   "execution_count": null,
   "id": "faa57e39-5c1c-47fe-905b-a045409de0ea",
   "metadata": {},
   "outputs": [],
   "source": [
    "np.mean(arr)"
   ]
  },
  {
   "cell_type": "markdown",
   "id": "e42342c5-74ee-4c39-b37e-ba0084170548",
   "metadata": {},
   "source": [
    "Or the standard deviation:"
   ]
  },
  {
   "cell_type": "code",
   "execution_count": null,
   "id": "827ff66c-8414-4a09-9e54-a11d0b60047a",
   "metadata": {},
   "outputs": [],
   "source": [
    "np.std(arr)"
   ]
  },
  {
   "cell_type": "markdown",
   "id": "fed590c1-8238-4b96-b88b-3382e8b6c3d9",
   "metadata": {},
   "source": [
    "We can also easily get the maximum and minimum values of the array:"
   ]
  },
  {
   "cell_type": "code",
   "execution_count": null,
   "id": "8fc818cf-a925-44da-b6d2-9c9ea1587226",
   "metadata": {},
   "outputs": [],
   "source": [
    "print(np.min(arr)) \n",
    "print(np.max(arr)) "
   ]
  },
  {
   "cell_type": "markdown",
   "id": "4ab50910-efb5-4e4f-a596-e8b5822d0f16",
   "metadata": {},
   "source": [
    "Finally, we can print the cumulative sum of the 2D array:"
   ]
  },
  {
   "cell_type": "code",
   "execution_count": null,
   "id": "7d2a98cc-ed87-4614-a908-83e66aa20888",
   "metadata": {},
   "outputs": [],
   "source": [
    "np.cumsum(arr)"
   ]
  },
  {
   "cell_type": "markdown",
   "id": "b63907a8-cc39-45d8-9c5f-5d64c172c71f",
   "metadata": {},
   "source": [
    "## Summary\n",
    "\n",
    "We have covered the following:\n",
    "\n",
    "- Creating 1-dimensional arrays\n",
    "- Slicing and indexing 1D arrays\n",
    "- Array broadcasting: perform operations such as `+` or `*` on all elements of an array, optimised for speed \n",
    "- Creating 2-dimensional arrays, and slicing them, and the syntax involved\n",
    "- Creating 3-dimensional arrays, and how to slice and index them\n",
    "- Learned how to search through arrays based on criteria, e.g. `>5`\n",
    "- Looked at some built-in aggregate functions and basic statistics functions\n",
    "\n",
    "Are there any questions? "
   ]
  },
  {
   "cell_type": "markdown",
   "id": "440574a0-c6ff-43d8-89b2-513861b258e4",
   "metadata": {},
   "source": [
    "---\n",
    "\n",
    "# Pandas\n",
    "\n",
    "As mentioned, I am aware that Pandas was covered but if a refresher is required we can cover it now before the afternoon session.\n",
    "\n",
    "If you think of Numpy as an array and matrix manipulation library, then Pandas, on the other hand, provides the functionality of R's Data Frames. Or you could think of it as Excel for Python. It allows you to manipulate data stored in Excel-like spreadsheets or R-like Data Frames, in a programmatic way. Pandas is best suited for **tabular** data that contains not only numerical data, but all data in the form of text or categorical data.\n",
    "\n",
    "Therefore, unlike NumPy, Pandas DataFrames have column names for example, and you can access individual columns using the column name, while in NumPy you access columns using indices. \n",
    "\n",
    "Also, Pandas can directly read Excel files and it provides convient ways of importing Excel spreadsheets data using functions such as `read_excel()`. You can also open SAS, SPSS, and SQL databases.\n",
    "\n",
    "We will now demonstrate the use of Pandas, by opening an Excel file that contains multiple sheets (we can take a look at it in Excel first). The Excel file relates to a catalog of movies, organised by genre, year, and so on."
   ]
  },
  {
   "cell_type": "code",
   "execution_count": null,
   "id": "d51aafc0-be5f-422e-814e-f1a09249f094",
   "metadata": {},
   "outputs": [],
   "source": [
    "import pandas as pd  # Convention \n",
    "\n",
    "# See https://www.dataquest.io/blog/excel-and-pandas/\n",
    "movies = pd.read_excel('./data/movies.xls')"
   ]
  },
  {
   "cell_type": "code",
   "execution_count": null,
   "id": "9fe87cd3-9aa1-4e63-93b1-425e802862d4",
   "metadata": {},
   "outputs": [],
   "source": [
    "movies"
   ]
  },
  {
   "cell_type": "markdown",
   "id": "f1c0fdb9-b060-4d65-978a-8a337b054b0b",
   "metadata": {},
   "source": [
    "If we were to look at the Excel file, we would see it has multiple sheets. \n",
    "\n",
    "Be default Pandas will open the first sheet, 0. Sheets are 0-indexed. You can specify the sheet you would wish to import using `sheetname`, so as follows:"
   ]
  },
  {
   "cell_type": "code",
   "execution_count": null,
   "id": "f45ba042-71bb-4010-b551-733e24c2a87d",
   "metadata": {},
   "outputs": [],
   "source": [
    "movies_2000s = pd.read_excel('./data/movies.xls', sheet_name=1)"
   ]
  },
  {
   "cell_type": "markdown",
   "id": "2a2680b0-7023-41cf-b7c9-a0fbc2198f1a",
   "metadata": {},
   "source": [
    "If you know the name of the sheet, this is equivalent:"
   ]
  },
  {
   "cell_type": "code",
   "execution_count": null,
   "id": "7cddc32e-32ca-4962-adf1-cf2ce826a5fb",
   "metadata": {},
   "outputs": [],
   "source": [
    "movies_2000s = pd.read_excel('./data/movies.xls', sheet_name='2000s')"
   ]
  },
  {
   "cell_type": "code",
   "execution_count": null,
   "id": "30665e22-69df-4bc7-ba3f-c87e2fbb68f5",
   "metadata": {},
   "outputs": [],
   "source": [
    "movies_2000s.head()"
   ]
  },
  {
   "cell_type": "markdown",
   "id": "fb6d5f3a-5834-41be-8957-c42e0ac7b8f6",
   "metadata": {},
   "source": [
    "The first column contains an automatically created index, if we wanted we could use the film title as an index instead:"
   ]
  },
  {
   "cell_type": "code",
   "execution_count": null,
   "id": "40d62d07-eb2c-407e-9caa-120ce9029fff",
   "metadata": {},
   "outputs": [],
   "source": [
    "movies_2000s = pd.read_excel('./data/movies.xls', sheet_name=1, index_col=0)\n",
    "movies_2000s.head()"
   ]
  },
  {
   "cell_type": "markdown",
   "id": "d85ba411-d3f4-4eae-8b4d-b9ed33c16d0c",
   "metadata": {},
   "source": [
    "As you can see, it is very easy to load Excel data using Pandas. Numpy would not be suitable for this task, as must of the data in this movies spreadsheet is not numerical data.\n",
    "\n",
    "### Iris\n",
    "\n",
    "Let's move to another dataset, namely the Iris dataset.\n",
    "\n",
    "The Iris dataset consists of 150 observations of 3 species of iris plant, namely setosa, virginica, and versicolor (50 of each)."
   ]
  },
  {
   "cell_type": "code",
   "execution_count": null,
   "id": "fd4990af-3ad6-4b5f-a5ab-8ddc046c4d0e",
   "metadata": {},
   "outputs": [],
   "source": [
    "iris_df = pd.read_csv('data/iris.csv', sep=',', header=None)"
   ]
  },
  {
   "cell_type": "markdown",
   "id": "f4870cf4-fc85-49df-b1cc-359dddad805f",
   "metadata": {},
   "source": [
    "As this is a CSV file, we have specified that the values are separated by the comma `,` symbol, and that the file's first line does not contain a header.\n",
    "\n",
    "We can preview the data within Jupyter to confirm this.\n",
    "\n",
    "Now that the data has been loaded in to a Pandas DataFrame, we can view it:"
   ]
  },
  {
   "cell_type": "code",
   "execution_count": null,
   "id": "4e219336-a159-46b1-afa7-df65084d35f5",
   "metadata": {},
   "outputs": [],
   "source": [
    "iris_df"
   ]
  },
  {
   "cell_type": "markdown",
   "id": "76cd9e6b-a433-48a2-bfc8-ca30afd284a5",
   "metadata": {},
   "source": [
    "The `head()` and `tail()` functions are useful for previewing your data:"
   ]
  },
  {
   "cell_type": "code",
   "execution_count": null,
   "id": "866320a8-2055-436e-bd74-88e268854a77",
   "metadata": {},
   "outputs": [],
   "source": [
    "iris_df.head()"
   ]
  },
  {
   "cell_type": "markdown",
   "id": "28ffc101-8292-4684-88aa-9ad34e320848",
   "metadata": {},
   "source": [
    "Pandas DataFrames allow you to add column names to the dataset (this is also not possible with Numpy arrays):"
   ]
  },
  {
   "cell_type": "code",
   "execution_count": null,
   "id": "7fc72764-cb10-41d2-ac06-912a7086c2ff",
   "metadata": {},
   "outputs": [],
   "source": [
    "iris_df.columns = [\"sepal_length\", 'sepal_width', 'petal_length', 'petal_width', 'class']"
   ]
  },
  {
   "cell_type": "code",
   "execution_count": null,
   "id": "3c78c436-6f9b-4cd2-8c3b-041e684eea26",
   "metadata": {},
   "outputs": [],
   "source": [
    "iris_df"
   ]
  },
  {
   "cell_type": "markdown",
   "id": "da82fcff-5400-4dd2-9162-c61d5aa730c2",
   "metadata": {},
   "source": [
    "You can use the `describe()` function to get a quick look overview of some of the statistics of the data, such as the mean value per column:"
   ]
  },
  {
   "cell_type": "code",
   "execution_count": null,
   "id": "fca69f6b-4362-4db7-aadb-c8e164d0c8dd",
   "metadata": {},
   "outputs": [],
   "source": [
    "iris_df.describe()"
   ]
  },
  {
   "cell_type": "markdown",
   "id": "d6ec8e58-8dad-4c2a-9897-f581e9a64455",
   "metadata": {},
   "source": [
    "Note that the `class` column is not included as it does not contain numerical data.\n",
    "\n",
    "The `info()` function provides further information:"
   ]
  },
  {
   "cell_type": "code",
   "execution_count": null,
   "id": "f5bd41d0-b920-4fd6-9ed1-4f32d2a5b99c",
   "metadata": {},
   "outputs": [],
   "source": [
    "iris_df.info()"
   ]
  },
  {
   "cell_type": "markdown",
   "id": "529c8781-6032-439e-b4d0-bf7150f02e34",
   "metadata": {},
   "source": [
    "This shows you information as to the data types, whethe there is any missing information, and so on."
   ]
  },
  {
   "cell_type": "markdown",
   "id": "f0159b27-4946-45d1-a017-e6830d22db6c",
   "metadata": {},
   "source": [
    "### Slicing Data\n",
    "\n",
    "You can select rows and columns based on the names of the columns, in contrast to Numpy where only numerical indices are allowed. For example if you wanted to view the `sepal_length` column:"
   ]
  },
  {
   "cell_type": "code",
   "execution_count": null,
   "id": "e3c1bf2f-7794-4448-a8f5-fea6e7da150d",
   "metadata": {},
   "outputs": [],
   "source": [
    "type(iris_df['sepal_length'])"
   ]
  },
  {
   "cell_type": "markdown",
   "id": "d1503e9f-fa16-40e6-8045-d459a5550090",
   "metadata": {},
   "source": [
    "If your column name does not contain any spaces or special characters, you can use the dot (`.`) notation to select columns:"
   ]
  },
  {
   "cell_type": "code",
   "execution_count": null,
   "id": "3ddd9c4f-ced8-4389-b40d-975263af7e44",
   "metadata": {},
   "outputs": [],
   "source": [
    "iris_df.sepal_width"
   ]
  },
  {
   "cell_type": "markdown",
   "id": "2c8703b1-6acd-4f53-89f8-5da482f3c7e4",
   "metadata": {},
   "source": [
    "You can also select multiple columns by passing a list:"
   ]
  },
  {
   "cell_type": "code",
   "execution_count": null,
   "id": "20c3aa4b-1080-41df-a6b5-1714ceeb8013",
   "metadata": {},
   "outputs": [],
   "source": [
    "iris_df[['petal_length', 'class']]"
   ]
  },
  {
   "cell_type": "markdown",
   "id": "0342f227-46d9-46b2-80a2-6fdac3ab4047",
   "metadata": {},
   "source": [
    "You can index rows numerically using the `iloc` attribute.\n",
    "\n",
    "Here we select the first row of the dataset:"
   ]
  },
  {
   "cell_type": "code",
   "execution_count": null,
   "id": "6232b9df-a371-445c-8b92-5044b0b040a8",
   "metadata": {},
   "outputs": [],
   "source": [
    "iris_df.iloc[0]"
   ]
  },
  {
   "cell_type": "markdown",
   "id": "7602a302-fa6a-46f4-94b7-05680ef8f10f",
   "metadata": {},
   "source": [
    "Indices are 0-based.\n",
    "\n",
    "You can also select multiple rows in this manner, by passing a list of rows you wish to retrieve:"
   ]
  },
  {
   "cell_type": "code",
   "execution_count": null,
   "id": "6efb6842-988e-4eb6-98e0-823627511053",
   "metadata": {},
   "outputs": [],
   "source": [
    "iris_df.iloc[[1,2,3]]"
   ]
  },
  {
   "cell_type": "markdown",
   "id": "f6ce699b-5976-40f3-8f01-b967c1939b16",
   "metadata": {},
   "source": [
    "Or indeed a range, here we are selecting rows 0 to 9:"
   ]
  },
  {
   "cell_type": "code",
   "execution_count": null,
   "id": "0afee6b6-39f5-4ce7-aeb7-faafd3217d69",
   "metadata": {},
   "outputs": [],
   "source": [
    "iris_df.iloc[0:10]"
   ]
  },
  {
   "cell_type": "markdown",
   "id": "1eb15e50-bbb3-4993-87d0-10b2c2a3fd20",
   "metadata": {},
   "source": [
    "And combine this with a list of column names, as follows:"
   ]
  },
  {
   "cell_type": "code",
   "execution_count": null,
   "id": "e601f198-ced7-4afc-8748-c0ef94612f2d",
   "metadata": {},
   "outputs": [],
   "source": [
    "iris_df.iloc[0:10][['petal_length', 'class']]"
   ]
  },
  {
   "cell_type": "markdown",
   "id": "eeeafa1d-a184-4596-89c1-503ab9e806c0",
   "metadata": {},
   "source": [
    "For non-continuous rows, you can use the `np.r_` helper to specify ranges to pass to `iloc`:"
   ]
  },
  {
   "cell_type": "code",
   "execution_count": null,
   "id": "5cfa571e-ceed-460c-92e2-05bfb2851867",
   "metadata": {},
   "outputs": [],
   "source": [
    "iris_df.iloc[np.r_[2:5, 7:10]]"
   ]
  },
  {
   "cell_type": "markdown",
   "id": "4217f6e7-a266-476a-93cf-2a4eb5cc6641",
   "metadata": {},
   "source": [
    "A common task is to sample from your dataset based on conditions. For example, you may want all rows where the sepal length is greater than 7cm. \n",
    "\n",
    "If you run the following:"
   ]
  },
  {
   "cell_type": "code",
   "execution_count": null,
   "id": "38878aae-efc8-48a4-86de-789c5ce3786a",
   "metadata": {},
   "outputs": [],
   "source": [
    "condition = iris_df.sepal_length > 7"
   ]
  },
  {
   "cell_type": "markdown",
   "id": "0e48b93b-627f-463d-b70e-ee38d21ed5f5",
   "metadata": {},
   "source": [
    "you will get back a list with True/False masks:"
   ]
  },
  {
   "cell_type": "code",
   "execution_count": null,
   "id": "3405c1a6-0123-4742-8048-27654721c366",
   "metadata": {},
   "outputs": [],
   "source": [
    "condition"
   ]
  },
  {
   "cell_type": "markdown",
   "id": "585f73cc-97d7-4094-ac26-8dfae8c6f6ef",
   "metadata": {},
   "source": [
    "And this can be passed as a condition to your DataFrame:"
   ]
  },
  {
   "cell_type": "code",
   "execution_count": null,
   "id": "a7b75c5c-cf2f-46ab-abfb-3794fcdcd417",
   "metadata": {},
   "outputs": [],
   "source": [
    "iris_df[condition]"
   ]
  },
  {
   "cell_type": "markdown",
   "id": "caa850ea-2f6e-4a27-b2b7-6490e0e25101",
   "metadata": {},
   "source": [
    "If you use `loc` you can specify the condition, and a list of columns that you want:"
   ]
  },
  {
   "cell_type": "code",
   "execution_count": null,
   "id": "e366628f-58b2-4987-8b7c-e40487ba83e8",
   "metadata": {},
   "outputs": [],
   "source": [
    "iris_df.loc[condition, ['sepal_length', 'class']]"
   ]
  },
  {
   "cell_type": "markdown",
   "id": "d0d908df-9dbb-4e6d-bc50-b982f37f0aae",
   "metadata": {},
   "source": [
    "You can make even write complex multiple condition statements. \n",
    "\n",
    "For example you might want only those rows where the sepal length is greater than 5cm and the petal length is greater than 6cm:"
   ]
  },
  {
   "cell_type": "code",
   "execution_count": null,
   "id": "c707c14a-04e3-4963-b04c-1eb9ece791b9",
   "metadata": {},
   "outputs": [],
   "source": [
    "condition_multiple = (iris_df['sepal_length'] > 5) & (iris_df['petal_length'] > 6)"
   ]
  },
  {
   "cell_type": "code",
   "execution_count": null,
   "id": "007ff4a7-2f6d-4da6-ba1a-c8875af4a6d9",
   "metadata": {},
   "outputs": [],
   "source": [
    "condition_multiple"
   ]
  },
  {
   "cell_type": "markdown",
   "id": "18775fc1-79ef-4bb8-87f3-42707c2d4c46",
   "metadata": {},
   "source": [
    "The `condition_multiple` does not contain the data, it contains a mask that can be passed as an index to the DataFrame:"
   ]
  },
  {
   "cell_type": "code",
   "execution_count": null,
   "id": "24059f1b-daac-4a0e-9889-dcf43e0adf6f",
   "metadata": {},
   "outputs": [],
   "source": [
    "iris_df[condition_multiple]"
   ]
  },
  {
   "cell_type": "markdown",
   "id": "a8b7542d-ce93-4481-8913-f7ef98b23610",
   "metadata": {},
   "source": [
    "Combine this with `loc` once again, and you can specify a subset of columns that you want returned:"
   ]
  },
  {
   "cell_type": "code",
   "execution_count": null,
   "id": "bbf6c630-09c9-4580-bb52-07260283cc1e",
   "metadata": {},
   "outputs": [],
   "source": [
    "iris_df.loc[condition_multiple, ['sepal_length', 'petal_length', 'class']]"
   ]
  },
  {
   "cell_type": "markdown",
   "id": "27209352-a27f-49c2-80a5-67d59b87a846",
   "metadata": {},
   "source": [
    "Hopefully this gives you an overview of how to use Pandas. We will be using Pandas throughout the course, and these basics should be enough for you to unserstand any of the Pandas code you will see later."
   ]
  },
  {
   "cell_type": "markdown",
   "id": "d913bc7c-0407-45b5-9186-1a9176b83e0e",
   "metadata": {},
   "source": [
    "--- \n",
    "\n",
    "# Links and Resources\n",
    "\n",
    "A good guide for how to use Python's built in `help()` function, see <https://www.pythonmorsels.com/help-features/> \n",
    "\n",
    "# End of Morning Session\n",
    "\n",
    "We will continue after a break"
   ]
  },
  {
   "cell_type": "code",
   "execution_count": null,
   "id": "f308d8f0-7e30-4bca-b02b-fa61c0abb091",
   "metadata": {},
   "outputs": [],
   "source": []
  }
 ],
 "metadata": {
  "kernelspec": {
   "display_name": "Python 3 (ipykernel)",
   "language": "python",
   "name": "python3"
  },
  "language_info": {
   "codemirror_mode": {
    "name": "ipython",
    "version": 3
   },
   "file_extension": ".py",
   "mimetype": "text/x-python",
   "name": "python",
   "nbconvert_exporter": "python",
   "pygments_lexer": "ipython3",
   "version": "3.12.3"
  }
 },
 "nbformat": 4,
 "nbformat_minor": 5
}
